{
 "cells": [
  {
   "cell_type": "markdown",
   "id": "forward-content",
   "metadata": {
    "papermill": {
     "duration": 0.074785,
     "end_time": "2021-04-24T21:12:56.668677",
     "exception": false,
     "start_time": "2021-04-24T21:12:56.593892",
     "status": "completed"
    },
    "tags": []
   },
   "source": [
    "# Description:\n",
    "### It is essential for businesses to understand which features of the dataset has the highest impact on the desired outcome. Having the knowledge can help organizations in resouce allocation strategy effectively and efficiently to ensure the intervention to improve desired outcome. In this interesting project, the dataset used is about patients who did not show up to their appointments. Finding ways to encourage patients to show up to their appointment to get appropriate treatment is always a priority, especially in the ambulatory healthcare setting. Ultimately, this can benefit healthcare facilities to maximize their scheduling efforts and craft strategies to encourage patients to show up to appointments. "
   ]
  },
  {
   "cell_type": "markdown",
   "id": "competent-gossip",
   "metadata": {
    "papermill": {
     "duration": 0.073092,
     "end_time": "2021-04-24T21:12:56.816321",
     "exception": false,
     "start_time": "2021-04-24T21:12:56.743229",
     "status": "completed"
    },
    "tags": []
   },
   "source": [
    "# Project Objective:\n",
    "### To find out 3 components have the most impact on the desired outcome. The features that can explain the most variance is identified so healthcare facilities can gain actionable insights and craft appropriate startegies and plans. "
   ]
  },
  {
   "cell_type": "markdown",
   "id": "collected-cholesterol",
   "metadata": {
    "papermill": {
     "duration": 0.073157,
     "end_time": "2021-04-24T21:12:56.963344",
     "exception": false,
     "start_time": "2021-04-24T21:12:56.890187",
     "status": "completed"
    },
    "tags": []
   },
   "source": [
    "# Process:\n",
    "### This interesting project will start off with exploratory data analysis, data cleansing, feature-engineering, and preprocessing the data. Then, The Principle Component Analysis from sklearn library will be used and fit to the data. This model offers to explain, in a 2-D graphical form, the variance from the most significant 3 components in all features. Finally, the most relevant features from the vast dataset will be shown in the graphical form. "
   ]
  },
  {
   "cell_type": "markdown",
   "id": "billion-alignment",
   "metadata": {
    "papermill": {
     "duration": 0.072932,
     "end_time": "2021-04-24T21:12:57.110085",
     "exception": false,
     "start_time": "2021-04-24T21:12:57.037153",
     "status": "completed"
    },
    "tags": []
   },
   "source": [
    "### Importing libraries"
   ]
  },
  {
   "cell_type": "code",
   "execution_count": 1,
   "id": "canadian-member",
   "metadata": {
    "execution": {
     "iopub.execute_input": "2021-04-24T21:12:57.289335Z",
     "iopub.status.busy": "2021-04-24T21:12:57.288629Z",
     "iopub.status.idle": "2021-04-24T21:12:58.127886Z",
     "shell.execute_reply": "2021-04-24T21:12:58.127141Z"
    },
    "papermill": {
     "duration": 0.938486,
     "end_time": "2021-04-24T21:12:58.128065",
     "exception": false,
     "start_time": "2021-04-24T21:12:57.189579",
     "status": "completed"
    },
    "tags": []
   },
   "outputs": [],
   "source": [
    "import pandas as pd\n",
    "import numpy as np\n",
    "import matplotlib.pyplot as plt\n",
    "import seaborn as sns\n",
    "%matplotlib inline\n"
   ]
  },
  {
   "cell_type": "code",
   "execution_count": 2,
   "id": "quick-headquarters",
   "metadata": {
    "execution": {
     "iopub.execute_input": "2021-04-24T21:12:58.283098Z",
     "iopub.status.busy": "2021-04-24T21:12:58.282429Z",
     "iopub.status.idle": "2021-04-24T21:12:58.649258Z",
     "shell.execute_reply": "2021-04-24T21:12:58.648698Z"
    },
    "papermill": {
     "duration": 0.445746,
     "end_time": "2021-04-24T21:12:58.649409",
     "exception": false,
     "start_time": "2021-04-24T21:12:58.203663",
     "status": "completed"
    },
    "tags": []
   },
   "outputs": [],
   "source": [
    "data = pd.read_csv(\"../input/noshowappointments/KaggleV2-May-2016.csv\")"
   ]
  },
  {
   "cell_type": "code",
   "execution_count": 3,
   "id": "heated-straight",
   "metadata": {
    "execution": {
     "iopub.execute_input": "2021-04-24T21:12:58.801821Z",
     "iopub.status.busy": "2021-04-24T21:12:58.801161Z",
     "iopub.status.idle": "2021-04-24T21:12:58.833283Z",
     "shell.execute_reply": "2021-04-24T21:12:58.832745Z"
    },
    "papermill": {
     "duration": 0.109321,
     "end_time": "2021-04-24T21:12:58.833433",
     "exception": false,
     "start_time": "2021-04-24T21:12:58.724112",
     "status": "completed"
    },
    "tags": []
   },
   "outputs": [
    {
     "data": {
      "text/html": [
       "<div>\n",
       "<style scoped>\n",
       "    .dataframe tbody tr th:only-of-type {\n",
       "        vertical-align: middle;\n",
       "    }\n",
       "\n",
       "    .dataframe tbody tr th {\n",
       "        vertical-align: top;\n",
       "    }\n",
       "\n",
       "    .dataframe thead th {\n",
       "        text-align: right;\n",
       "    }\n",
       "</style>\n",
       "<table border=\"1\" class=\"dataframe\">\n",
       "  <thead>\n",
       "    <tr style=\"text-align: right;\">\n",
       "      <th></th>\n",
       "      <th>PatientId</th>\n",
       "      <th>AppointmentID</th>\n",
       "      <th>Gender</th>\n",
       "      <th>ScheduledDay</th>\n",
       "      <th>AppointmentDay</th>\n",
       "      <th>Age</th>\n",
       "      <th>Neighbourhood</th>\n",
       "      <th>Scholarship</th>\n",
       "      <th>Hipertension</th>\n",
       "      <th>Diabetes</th>\n",
       "      <th>Alcoholism</th>\n",
       "      <th>Handcap</th>\n",
       "      <th>SMS_received</th>\n",
       "      <th>No-show</th>\n",
       "    </tr>\n",
       "  </thead>\n",
       "  <tbody>\n",
       "    <tr>\n",
       "      <th>0</th>\n",
       "      <td>2.987250e+13</td>\n",
       "      <td>5642903</td>\n",
       "      <td>F</td>\n",
       "      <td>2016-04-29T18:38:08Z</td>\n",
       "      <td>2016-04-29T00:00:00Z</td>\n",
       "      <td>62</td>\n",
       "      <td>JARDIM DA PENHA</td>\n",
       "      <td>0</td>\n",
       "      <td>1</td>\n",
       "      <td>0</td>\n",
       "      <td>0</td>\n",
       "      <td>0</td>\n",
       "      <td>0</td>\n",
       "      <td>No</td>\n",
       "    </tr>\n",
       "    <tr>\n",
       "      <th>1</th>\n",
       "      <td>5.589978e+14</td>\n",
       "      <td>5642503</td>\n",
       "      <td>M</td>\n",
       "      <td>2016-04-29T16:08:27Z</td>\n",
       "      <td>2016-04-29T00:00:00Z</td>\n",
       "      <td>56</td>\n",
       "      <td>JARDIM DA PENHA</td>\n",
       "      <td>0</td>\n",
       "      <td>0</td>\n",
       "      <td>0</td>\n",
       "      <td>0</td>\n",
       "      <td>0</td>\n",
       "      <td>0</td>\n",
       "      <td>No</td>\n",
       "    </tr>\n",
       "    <tr>\n",
       "      <th>2</th>\n",
       "      <td>4.262962e+12</td>\n",
       "      <td>5642549</td>\n",
       "      <td>F</td>\n",
       "      <td>2016-04-29T16:19:04Z</td>\n",
       "      <td>2016-04-29T00:00:00Z</td>\n",
       "      <td>62</td>\n",
       "      <td>MATA DA PRAIA</td>\n",
       "      <td>0</td>\n",
       "      <td>0</td>\n",
       "      <td>0</td>\n",
       "      <td>0</td>\n",
       "      <td>0</td>\n",
       "      <td>0</td>\n",
       "      <td>No</td>\n",
       "    </tr>\n",
       "  </tbody>\n",
       "</table>\n",
       "</div>"
      ],
      "text/plain": [
       "      PatientId  AppointmentID Gender          ScheduledDay  \\\n",
       "0  2.987250e+13        5642903      F  2016-04-29T18:38:08Z   \n",
       "1  5.589978e+14        5642503      M  2016-04-29T16:08:27Z   \n",
       "2  4.262962e+12        5642549      F  2016-04-29T16:19:04Z   \n",
       "\n",
       "         AppointmentDay  Age    Neighbourhood  Scholarship  Hipertension  \\\n",
       "0  2016-04-29T00:00:00Z   62  JARDIM DA PENHA            0             1   \n",
       "1  2016-04-29T00:00:00Z   56  JARDIM DA PENHA            0             0   \n",
       "2  2016-04-29T00:00:00Z   62    MATA DA PRAIA            0             0   \n",
       "\n",
       "   Diabetes  Alcoholism  Handcap  SMS_received No-show  \n",
       "0         0           0        0             0      No  \n",
       "1         0           0        0             0      No  \n",
       "2         0           0        0             0      No  "
      ]
     },
     "execution_count": 3,
     "metadata": {},
     "output_type": "execute_result"
    }
   ],
   "source": [
    "data.head(3)"
   ]
  },
  {
   "cell_type": "markdown",
   "id": "dying-advisory",
   "metadata": {
    "papermill": {
     "duration": 0.075079,
     "end_time": "2021-04-24T21:12:58.983119",
     "exception": false,
     "start_time": "2021-04-24T21:12:58.908040",
     "status": "completed"
    },
    "tags": []
   },
   "source": [
    "### Basic descriptive analysis"
   ]
  },
  {
   "cell_type": "code",
   "execution_count": 4,
   "id": "textile-surgeon",
   "metadata": {
    "execution": {
     "iopub.execute_input": "2021-04-24T21:12:59.137982Z",
     "iopub.status.busy": "2021-04-24T21:12:59.136991Z",
     "iopub.status.idle": "2021-04-24T21:12:59.212398Z",
     "shell.execute_reply": "2021-04-24T21:12:59.211845Z"
    },
    "papermill": {
     "duration": 0.154798,
     "end_time": "2021-04-24T21:12:59.212529",
     "exception": false,
     "start_time": "2021-04-24T21:12:59.057731",
     "status": "completed"
    },
    "tags": []
   },
   "outputs": [
    {
     "data": {
      "text/html": [
       "<div>\n",
       "<style scoped>\n",
       "    .dataframe tbody tr th:only-of-type {\n",
       "        vertical-align: middle;\n",
       "    }\n",
       "\n",
       "    .dataframe tbody tr th {\n",
       "        vertical-align: top;\n",
       "    }\n",
       "\n",
       "    .dataframe thead th {\n",
       "        text-align: right;\n",
       "    }\n",
       "</style>\n",
       "<table border=\"1\" class=\"dataframe\">\n",
       "  <thead>\n",
       "    <tr style=\"text-align: right;\">\n",
       "      <th></th>\n",
       "      <th>PatientId</th>\n",
       "      <th>AppointmentID</th>\n",
       "      <th>Age</th>\n",
       "      <th>Scholarship</th>\n",
       "      <th>Hipertension</th>\n",
       "      <th>Diabetes</th>\n",
       "      <th>Alcoholism</th>\n",
       "      <th>Handcap</th>\n",
       "      <th>SMS_received</th>\n",
       "    </tr>\n",
       "  </thead>\n",
       "  <tbody>\n",
       "    <tr>\n",
       "      <th>count</th>\n",
       "      <td>1.105270e+05</td>\n",
       "      <td>1.105270e+05</td>\n",
       "      <td>110527.000000</td>\n",
       "      <td>110527.000000</td>\n",
       "      <td>110527.000000</td>\n",
       "      <td>110527.000000</td>\n",
       "      <td>110527.000000</td>\n",
       "      <td>110527.000000</td>\n",
       "      <td>110527.000000</td>\n",
       "    </tr>\n",
       "    <tr>\n",
       "      <th>mean</th>\n",
       "      <td>1.474963e+14</td>\n",
       "      <td>5.675305e+06</td>\n",
       "      <td>37.088874</td>\n",
       "      <td>0.098266</td>\n",
       "      <td>0.197246</td>\n",
       "      <td>0.071865</td>\n",
       "      <td>0.030400</td>\n",
       "      <td>0.022248</td>\n",
       "      <td>0.321026</td>\n",
       "    </tr>\n",
       "    <tr>\n",
       "      <th>std</th>\n",
       "      <td>2.560949e+14</td>\n",
       "      <td>7.129575e+04</td>\n",
       "      <td>23.110205</td>\n",
       "      <td>0.297675</td>\n",
       "      <td>0.397921</td>\n",
       "      <td>0.258265</td>\n",
       "      <td>0.171686</td>\n",
       "      <td>0.161543</td>\n",
       "      <td>0.466873</td>\n",
       "    </tr>\n",
       "    <tr>\n",
       "      <th>min</th>\n",
       "      <td>3.921784e+04</td>\n",
       "      <td>5.030230e+06</td>\n",
       "      <td>-1.000000</td>\n",
       "      <td>0.000000</td>\n",
       "      <td>0.000000</td>\n",
       "      <td>0.000000</td>\n",
       "      <td>0.000000</td>\n",
       "      <td>0.000000</td>\n",
       "      <td>0.000000</td>\n",
       "    </tr>\n",
       "    <tr>\n",
       "      <th>25%</th>\n",
       "      <td>4.172614e+12</td>\n",
       "      <td>5.640286e+06</td>\n",
       "      <td>18.000000</td>\n",
       "      <td>0.000000</td>\n",
       "      <td>0.000000</td>\n",
       "      <td>0.000000</td>\n",
       "      <td>0.000000</td>\n",
       "      <td>0.000000</td>\n",
       "      <td>0.000000</td>\n",
       "    </tr>\n",
       "    <tr>\n",
       "      <th>50%</th>\n",
       "      <td>3.173184e+13</td>\n",
       "      <td>5.680573e+06</td>\n",
       "      <td>37.000000</td>\n",
       "      <td>0.000000</td>\n",
       "      <td>0.000000</td>\n",
       "      <td>0.000000</td>\n",
       "      <td>0.000000</td>\n",
       "      <td>0.000000</td>\n",
       "      <td>0.000000</td>\n",
       "    </tr>\n",
       "    <tr>\n",
       "      <th>75%</th>\n",
       "      <td>9.439172e+13</td>\n",
       "      <td>5.725524e+06</td>\n",
       "      <td>55.000000</td>\n",
       "      <td>0.000000</td>\n",
       "      <td>0.000000</td>\n",
       "      <td>0.000000</td>\n",
       "      <td>0.000000</td>\n",
       "      <td>0.000000</td>\n",
       "      <td>1.000000</td>\n",
       "    </tr>\n",
       "    <tr>\n",
       "      <th>max</th>\n",
       "      <td>9.999816e+14</td>\n",
       "      <td>5.790484e+06</td>\n",
       "      <td>115.000000</td>\n",
       "      <td>1.000000</td>\n",
       "      <td>1.000000</td>\n",
       "      <td>1.000000</td>\n",
       "      <td>1.000000</td>\n",
       "      <td>4.000000</td>\n",
       "      <td>1.000000</td>\n",
       "    </tr>\n",
       "  </tbody>\n",
       "</table>\n",
       "</div>"
      ],
      "text/plain": [
       "          PatientId  AppointmentID            Age    Scholarship  \\\n",
       "count  1.105270e+05   1.105270e+05  110527.000000  110527.000000   \n",
       "mean   1.474963e+14   5.675305e+06      37.088874       0.098266   \n",
       "std    2.560949e+14   7.129575e+04      23.110205       0.297675   \n",
       "min    3.921784e+04   5.030230e+06      -1.000000       0.000000   \n",
       "25%    4.172614e+12   5.640286e+06      18.000000       0.000000   \n",
       "50%    3.173184e+13   5.680573e+06      37.000000       0.000000   \n",
       "75%    9.439172e+13   5.725524e+06      55.000000       0.000000   \n",
       "max    9.999816e+14   5.790484e+06     115.000000       1.000000   \n",
       "\n",
       "        Hipertension       Diabetes     Alcoholism        Handcap  \\\n",
       "count  110527.000000  110527.000000  110527.000000  110527.000000   \n",
       "mean        0.197246       0.071865       0.030400       0.022248   \n",
       "std         0.397921       0.258265       0.171686       0.161543   \n",
       "min         0.000000       0.000000       0.000000       0.000000   \n",
       "25%         0.000000       0.000000       0.000000       0.000000   \n",
       "50%         0.000000       0.000000       0.000000       0.000000   \n",
       "75%         0.000000       0.000000       0.000000       0.000000   \n",
       "max         1.000000       1.000000       1.000000       4.000000   \n",
       "\n",
       "        SMS_received  \n",
       "count  110527.000000  \n",
       "mean        0.321026  \n",
       "std         0.466873  \n",
       "min         0.000000  \n",
       "25%         0.000000  \n",
       "50%         0.000000  \n",
       "75%         1.000000  \n",
       "max         1.000000  "
      ]
     },
     "execution_count": 4,
     "metadata": {},
     "output_type": "execute_result"
    }
   ],
   "source": [
    "data.describe()"
   ]
  },
  {
   "cell_type": "code",
   "execution_count": 5,
   "id": "frequent-registration",
   "metadata": {
    "execution": {
     "iopub.execute_input": "2021-04-24T21:12:59.368699Z",
     "iopub.status.busy": "2021-04-24T21:12:59.367838Z",
     "iopub.status.idle": "2021-04-24T21:12:59.431268Z",
     "shell.execute_reply": "2021-04-24T21:12:59.430625Z"
    },
    "papermill": {
     "duration": 0.143924,
     "end_time": "2021-04-24T21:12:59.431408",
     "exception": false,
     "start_time": "2021-04-24T21:12:59.287484",
     "status": "completed"
    },
    "tags": []
   },
   "outputs": [
    {
     "data": {
      "text/plain": [
       "PatientId         0\n",
       "AppointmentID     0\n",
       "Gender            0\n",
       "ScheduledDay      0\n",
       "AppointmentDay    0\n",
       "Age               0\n",
       "Neighbourhood     0\n",
       "Scholarship       0\n",
       "Hipertension      0\n",
       "Diabetes          0\n",
       "Alcoholism        0\n",
       "Handcap           0\n",
       "SMS_received      0\n",
       "No-show           0\n",
       "dtype: int64"
      ]
     },
     "execution_count": 5,
     "metadata": {},
     "output_type": "execute_result"
    }
   ],
   "source": [
    "data.isnull().sum()"
   ]
  },
  {
   "cell_type": "code",
   "execution_count": 6,
   "id": "ultimate-colorado",
   "metadata": {
    "execution": {
     "iopub.execute_input": "2021-04-24T21:12:59.641771Z",
     "iopub.status.busy": "2021-04-24T21:12:59.587946Z",
     "iopub.status.idle": "2021-04-24T21:12:59.661511Z",
     "shell.execute_reply": "2021-04-24T21:12:59.662077Z"
    },
    "papermill": {
     "duration": 0.154968,
     "end_time": "2021-04-24T21:12:59.662252",
     "exception": false,
     "start_time": "2021-04-24T21:12:59.507284",
     "status": "completed"
    },
    "tags": []
   },
   "outputs": [
    {
     "name": "stdout",
     "output_type": "stream",
     "text": [
      "<class 'pandas.core.frame.DataFrame'>\n",
      "RangeIndex: 110527 entries, 0 to 110526\n",
      "Data columns (total 14 columns):\n",
      " #   Column          Non-Null Count   Dtype  \n",
      "---  ------          --------------   -----  \n",
      " 0   PatientId       110527 non-null  float64\n",
      " 1   AppointmentID   110527 non-null  int64  \n",
      " 2   Gender          110527 non-null  object \n",
      " 3   ScheduledDay    110527 non-null  object \n",
      " 4   AppointmentDay  110527 non-null  object \n",
      " 5   Age             110527 non-null  int64  \n",
      " 6   Neighbourhood   110527 non-null  object \n",
      " 7   Scholarship     110527 non-null  int64  \n",
      " 8   Hipertension    110527 non-null  int64  \n",
      " 9   Diabetes        110527 non-null  int64  \n",
      " 10  Alcoholism      110527 non-null  int64  \n",
      " 11  Handcap         110527 non-null  int64  \n",
      " 12  SMS_received    110527 non-null  int64  \n",
      " 13  No-show         110527 non-null  object \n",
      "dtypes: float64(1), int64(8), object(5)\n",
      "memory usage: 11.8+ MB\n"
     ]
    }
   ],
   "source": [
    "data.info()"
   ]
  },
  {
   "cell_type": "code",
   "execution_count": 7,
   "id": "conscious-philadelphia",
   "metadata": {
    "execution": {
     "iopub.execute_input": "2021-04-24T21:12:59.822893Z",
     "iopub.status.busy": "2021-04-24T21:12:59.821922Z",
     "iopub.status.idle": "2021-04-24T21:12:59.826237Z",
     "shell.execute_reply": "2021-04-24T21:12:59.825599Z"
    },
    "papermill": {
     "duration": 0.086206,
     "end_time": "2021-04-24T21:12:59.826380",
     "exception": false,
     "start_time": "2021-04-24T21:12:59.740174",
     "status": "completed"
    },
    "tags": []
   },
   "outputs": [
    {
     "data": {
      "text/plain": [
       "Index(['PatientId', 'AppointmentID', 'Gender', 'ScheduledDay',\n",
       "       'AppointmentDay', 'Age', 'Neighbourhood', 'Scholarship', 'Hipertension',\n",
       "       'Diabetes', 'Alcoholism', 'Handcap', 'SMS_received', 'No-show'],\n",
       "      dtype='object')"
      ]
     },
     "execution_count": 7,
     "metadata": {},
     "output_type": "execute_result"
    }
   ],
   "source": [
    "data.columns"
   ]
  },
  {
   "cell_type": "markdown",
   "id": "resident-auditor",
   "metadata": {
    "papermill": {
     "duration": 0.077691,
     "end_time": "2021-04-24T21:12:59.981069",
     "exception": false,
     "start_time": "2021-04-24T21:12:59.903378",
     "status": "completed"
    },
    "tags": []
   },
   "source": [
    "# Exploratory Data Analysis"
   ]
  },
  {
   "cell_type": "code",
   "execution_count": 8,
   "id": "prepared-charm",
   "metadata": {
    "execution": {
     "iopub.execute_input": "2021-04-24T21:13:00.142892Z",
     "iopub.status.busy": "2021-04-24T21:13:00.142190Z",
     "iopub.status.idle": "2021-04-24T21:13:00.151869Z",
     "shell.execute_reply": "2021-04-24T21:13:00.151348Z"
    },
    "papermill": {
     "duration": 0.093628,
     "end_time": "2021-04-24T21:13:00.152009",
     "exception": false,
     "start_time": "2021-04-24T21:13:00.058381",
     "status": "completed"
    },
    "tags": []
   },
   "outputs": [
    {
     "data": {
      "text/plain": [
       "62299"
      ]
     },
     "execution_count": 8,
     "metadata": {},
     "output_type": "execute_result"
    }
   ],
   "source": [
    "data[\"PatientId\"].nunique()"
   ]
  },
  {
   "cell_type": "code",
   "execution_count": 9,
   "id": "identified-chile",
   "metadata": {
    "execution": {
     "iopub.execute_input": "2021-04-24T21:13:00.311580Z",
     "iopub.status.busy": "2021-04-24T21:13:00.310937Z",
     "iopub.status.idle": "2021-04-24T21:13:00.325942Z",
     "shell.execute_reply": "2021-04-24T21:13:00.325441Z"
    },
    "papermill": {
     "duration": 0.096813,
     "end_time": "2021-04-24T21:13:00.326078",
     "exception": false,
     "start_time": "2021-04-24T21:13:00.229265",
     "status": "completed"
    },
    "tags": []
   },
   "outputs": [
    {
     "data": {
      "text/plain": [
       "110527"
      ]
     },
     "execution_count": 9,
     "metadata": {},
     "output_type": "execute_result"
    }
   ],
   "source": [
    "data[\"AppointmentID\"].nunique()"
   ]
  },
  {
   "cell_type": "code",
   "execution_count": 10,
   "id": "corresponding-press",
   "metadata": {
    "execution": {
     "iopub.execute_input": "2021-04-24T21:13:00.486040Z",
     "iopub.status.busy": "2021-04-24T21:13:00.485296Z",
     "iopub.status.idle": "2021-04-24T21:13:00.488301Z",
     "shell.execute_reply": "2021-04-24T21:13:00.488852Z"
    },
    "papermill": {
     "duration": 0.086113,
     "end_time": "2021-04-24T21:13:00.489036",
     "exception": false,
     "start_time": "2021-04-24T21:13:00.402923",
     "status": "completed"
    },
    "tags": []
   },
   "outputs": [
    {
     "data": {
      "text/plain": [
       "Index(['PatientId', 'AppointmentID', 'Gender', 'ScheduledDay',\n",
       "       'AppointmentDay', 'Age', 'Neighbourhood', 'Scholarship', 'Hipertension',\n",
       "       'Diabetes', 'Alcoholism', 'Handcap', 'SMS_received', 'No-show'],\n",
       "      dtype='object')"
      ]
     },
     "execution_count": 10,
     "metadata": {},
     "output_type": "execute_result"
    }
   ],
   "source": [
    "data.columns"
   ]
  },
  {
   "cell_type": "code",
   "execution_count": 11,
   "id": "advisory-humidity",
   "metadata": {
    "execution": {
     "iopub.execute_input": "2021-04-24T21:13:00.647656Z",
     "iopub.status.busy": "2021-04-24T21:13:00.647049Z",
     "iopub.status.idle": "2021-04-24T21:13:00.679983Z",
     "shell.execute_reply": "2021-04-24T21:13:00.680559Z"
    },
    "papermill": {
     "duration": 0.113792,
     "end_time": "2021-04-24T21:13:00.680724",
     "exception": false,
     "start_time": "2021-04-24T21:13:00.566932",
     "status": "completed"
    },
    "tags": []
   },
   "outputs": [
    {
     "data": {
      "text/plain": [
       "F    71840\n",
       "M    38687\n",
       "Name: Gender, dtype: int64"
      ]
     },
     "execution_count": 11,
     "metadata": {},
     "output_type": "execute_result"
    }
   ],
   "source": [
    "data[\"Gender\"].value_counts()"
   ]
  },
  {
   "cell_type": "markdown",
   "id": "bronze-subdivision",
   "metadata": {
    "papermill": {
     "duration": 0.077961,
     "end_time": "2021-04-24T21:13:00.837236",
     "exception": false,
     "start_time": "2021-04-24T21:13:00.759275",
     "status": "completed"
    },
    "tags": []
   },
   "source": [
    "### Visualizing the gender data"
   ]
  },
  {
   "cell_type": "code",
   "execution_count": 12,
   "id": "incoming-forward",
   "metadata": {
    "execution": {
     "iopub.execute_input": "2021-04-24T21:13:00.999516Z",
     "iopub.status.busy": "2021-04-24T21:13:00.998892Z",
     "iopub.status.idle": "2021-04-24T21:13:01.462725Z",
     "shell.execute_reply": "2021-04-24T21:13:01.462106Z"
    },
    "papermill": {
     "duration": 0.54554,
     "end_time": "2021-04-24T21:13:01.462891",
     "exception": false,
     "start_time": "2021-04-24T21:13:00.917351",
     "status": "completed"
    },
    "tags": []
   },
   "outputs": [
    {
     "data": {
      "text/plain": [
       "<AxesSubplot:xlabel='No-show', ylabel='count'>"
      ]
     },
     "execution_count": 12,
     "metadata": {},
     "output_type": "execute_result"
    },
    {
     "data": {
      "image/png": "[encoded data removed]",
      "text/plain": [
       "<Figure size 864x504 with 1 Axes>"
      ]
     },
     "metadata": {
      "needs_background": "light"
     },
     "output_type": "display_data"
    }
   ],
   "source": [
    "plt.figure(figsize=(12,7))\n",
    "sns.set_context(\"paper\", font_scale=1.5)\n",
    "sns.countplot(x=data[\"No-show\"], data=data, hue=\"Gender\", color=\"pink\") "
   ]
  },
  {
   "cell_type": "markdown",
   "id": "crucial-virginia",
   "metadata": {
    "papermill": {
     "duration": 0.079157,
     "end_time": "2021-04-24T21:13:01.621371",
     "exception": false,
     "start_time": "2021-04-24T21:13:01.542214",
     "status": "completed"
    },
    "tags": []
   },
   "source": [
    "### Female patients, who made an appointment accounts for 65%. \n",
    "### Male patients, who made an appointment accounts for 35%. "
   ]
  },
  {
   "cell_type": "code",
   "execution_count": 13,
   "id": "beneficial-video",
   "metadata": {
    "execution": {
     "iopub.execute_input": "2021-04-24T21:13:01.810589Z",
     "iopub.status.busy": "2021-04-24T21:13:01.798524Z",
     "iopub.status.idle": "2021-04-24T21:13:01.830624Z",
     "shell.execute_reply": "2021-04-24T21:13:01.831123Z"
    },
    "papermill": {
     "duration": 0.13025,
     "end_time": "2021-04-24T21:13:01.831314",
     "exception": false,
     "start_time": "2021-04-24T21:13:01.701064",
     "status": "completed"
    },
    "tags": []
   },
   "outputs": [
    {
     "data": {
      "text/plain": [
       "F    64.997693\n",
       "M    35.002307\n",
       "Name: Gender, dtype: float64"
      ]
     },
     "execution_count": 13,
     "metadata": {},
     "output_type": "execute_result"
    }
   ],
   "source": [
    "data[\"Gender\"].value_counts(normalize=True)*100"
   ]
  },
  {
   "cell_type": "markdown",
   "id": "prepared-jaguar",
   "metadata": {
    "papermill": {
     "duration": 0.079441,
     "end_time": "2021-04-24T21:13:01.990888",
     "exception": false,
     "start_time": "2021-04-24T21:13:01.911447",
     "status": "completed"
    },
    "tags": []
   },
   "source": [
    "### The probability of picking a male patient, who missed the appointment is 34.6%.\n",
    "### The probability of picking a female patient, who missed the appointment is 65.4%."
   ]
  },
  {
   "cell_type": "code",
   "execution_count": 14,
   "id": "stuck-playing",
   "metadata": {
    "execution": {
     "iopub.execute_input": "2021-04-24T21:13:02.155379Z",
     "iopub.status.busy": "2021-04-24T21:13:02.154654Z",
     "iopub.status.idle": "2021-04-24T21:13:02.188067Z",
     "shell.execute_reply": "2021-04-24T21:13:02.188570Z"
    },
    "papermill": {
     "duration": 0.116649,
     "end_time": "2021-04-24T21:13:02.188739",
     "exception": false,
     "start_time": "2021-04-24T21:13:02.072090",
     "status": "completed"
    },
    "tags": []
   },
   "outputs": [
    {
     "data": {
      "text/plain": [
       "No-show  Gender\n",
       "No       F         64.898875\n",
       "         M         35.101125\n",
       "Yes      F         65.388234\n",
       "         M         34.611766\n",
       "Name: Gender, dtype: float64"
      ]
     },
     "execution_count": 14,
     "metadata": {},
     "output_type": "execute_result"
    }
   ],
   "source": [
    "data1 = data.groupby(\"No-show\")[\"Gender\"]\n",
    "data1.value_counts(normalize=True)*100"
   ]
  },
  {
   "cell_type": "code",
   "execution_count": 15,
   "id": "existing-feedback",
   "metadata": {
    "execution": {
     "iopub.execute_input": "2021-04-24T21:13:02.353275Z",
     "iopub.status.busy": "2021-04-24T21:13:02.352647Z",
     "iopub.status.idle": "2021-04-24T21:13:02.357462Z",
     "shell.execute_reply": "2021-04-24T21:13:02.358019Z"
    },
    "papermill": {
     "duration": 0.089245,
     "end_time": "2021-04-24T21:13:02.358177",
     "exception": false,
     "start_time": "2021-04-24T21:13:02.268932",
     "status": "completed"
    },
    "tags": []
   },
   "outputs": [
    {
     "data": {
      "text/plain": [
       "Index(['PatientId', 'AppointmentID', 'Gender', 'ScheduledDay',\n",
       "       'AppointmentDay', 'Age', 'Neighbourhood', 'Scholarship', 'Hipertension',\n",
       "       'Diabetes', 'Alcoholism', 'Handcap', 'SMS_received', 'No-show'],\n",
       "      dtype='object')"
      ]
     },
     "execution_count": 15,
     "metadata": {},
     "output_type": "execute_result"
    }
   ],
   "source": [
    "data.columns"
   ]
  },
  {
   "cell_type": "markdown",
   "id": "chronic-mainstream",
   "metadata": {
    "papermill": {
     "duration": 0.080339,
     "end_time": "2021-04-24T21:13:02.519288",
     "exception": false,
     "start_time": "2021-04-24T21:13:02.438949",
     "status": "completed"
    },
    "tags": []
   },
   "source": [
    "### Noted that the feature \"SheduledDay\" is in onject type. Will need to create new features of scheduled year, month, and day to give us more meaningful information. They will be converted into datetime format."
   ]
  },
  {
   "cell_type": "code",
   "execution_count": 16,
   "id": "warming-geology",
   "metadata": {
    "execution": {
     "iopub.execute_input": "2021-04-24T21:13:02.683986Z",
     "iopub.status.busy": "2021-04-24T21:13:02.683371Z",
     "iopub.status.idle": "2021-04-24T21:13:02.825731Z",
     "shell.execute_reply": "2021-04-24T21:13:02.826341Z"
    },
    "papermill": {
     "duration": 0.22643,
     "end_time": "2021-04-24T21:13:02.826516",
     "exception": false,
     "start_time": "2021-04-24T21:13:02.600086",
     "status": "completed"
    },
    "tags": []
   },
   "outputs": [
    {
     "data": {
      "text/plain": [
       "2016-05-06T07:09:54Z    24\n",
       "2016-05-06T07:09:53Z    23\n",
       "2016-04-25T17:18:27Z    22\n",
       "2016-04-25T17:17:46Z    22\n",
       "2016-04-25T17:17:23Z    19\n",
       "                        ..\n",
       "2016-05-17T13:52:29Z     1\n",
       "2016-04-12T08:23:14Z     1\n",
       "2016-05-03T11:25:43Z     1\n",
       "2016-05-09T11:50:03Z     1\n",
       "2016-05-24T07:28:28Z     1\n",
       "Name: ScheduledDay, Length: 103549, dtype: int64"
      ]
     },
     "execution_count": 16,
     "metadata": {},
     "output_type": "execute_result"
    }
   ],
   "source": [
    "data[\"ScheduledDay\"].value_counts()"
   ]
  },
  {
   "cell_type": "code",
   "execution_count": 17,
   "id": "continued-agent",
   "metadata": {
    "execution": {
     "iopub.execute_input": "2021-04-24T21:13:02.994591Z",
     "iopub.status.busy": "2021-04-24T21:13:02.993957Z",
     "iopub.status.idle": "2021-04-24T21:13:03.076200Z",
     "shell.execute_reply": "2021-04-24T21:13:03.076911Z"
    },
    "papermill": {
     "duration": 0.167837,
     "end_time": "2021-04-24T21:13:03.077093",
     "exception": false,
     "start_time": "2021-04-24T21:13:02.909256",
     "status": "completed"
    },
    "tags": []
   },
   "outputs": [],
   "source": [
    "data[\"ScheduledDay\"] = pd.to_datetime(data[\"ScheduledDay\"])"
   ]
  },
  {
   "cell_type": "code",
   "execution_count": 18,
   "id": "executed-origin",
   "metadata": {
    "execution": {
     "iopub.execute_input": "2021-04-24T21:13:03.245406Z",
     "iopub.status.busy": "2021-04-24T21:13:03.244710Z",
     "iopub.status.idle": "2021-04-24T21:13:03.263204Z",
     "shell.execute_reply": "2021-04-24T21:13:03.263740Z"
    },
    "papermill": {
     "duration": 0.103548,
     "end_time": "2021-04-24T21:13:03.263947",
     "exception": false,
     "start_time": "2021-04-24T21:13:03.160399",
     "status": "completed"
    },
    "tags": []
   },
   "outputs": [],
   "source": [
    "data[\"Scheduled_Yr\"] = data[\"ScheduledDay\"].dt.year"
   ]
  },
  {
   "cell_type": "code",
   "execution_count": 19,
   "id": "alleged-israeli",
   "metadata": {
    "execution": {
     "iopub.execute_input": "2021-04-24T21:13:03.433574Z",
     "iopub.status.busy": "2021-04-24T21:13:03.432908Z",
     "iopub.status.idle": "2021-04-24T21:13:03.440731Z",
     "shell.execute_reply": "2021-04-24T21:13:03.441290Z"
    },
    "papermill": {
     "duration": 0.093787,
     "end_time": "2021-04-24T21:13:03.441463",
     "exception": false,
     "start_time": "2021-04-24T21:13:03.347676",
     "status": "completed"
    },
    "tags": []
   },
   "outputs": [
    {
     "data": {
      "text/plain": [
       "2016    110465\n",
       "2015        62\n",
       "Name: Scheduled_Yr, dtype: int64"
      ]
     },
     "execution_count": 19,
     "metadata": {},
     "output_type": "execute_result"
    }
   ],
   "source": [
    "data[\"Scheduled_Yr\"].value_counts()"
   ]
  },
  {
   "cell_type": "code",
   "execution_count": 20,
   "id": "norwegian-solid",
   "metadata": {
    "execution": {
     "iopub.execute_input": "2021-04-24T21:13:03.609166Z",
     "iopub.status.busy": "2021-04-24T21:13:03.608519Z",
     "iopub.status.idle": "2021-04-24T21:13:03.624858Z",
     "shell.execute_reply": "2021-04-24T21:13:03.625391Z"
    },
    "papermill": {
     "duration": 0.102109,
     "end_time": "2021-04-24T21:13:03.625570",
     "exception": false,
     "start_time": "2021-04-24T21:13:03.523461",
     "status": "completed"
    },
    "tags": []
   },
   "outputs": [],
   "source": [
    "data[\"Scheduled_Mth\"] = data[\"ScheduledDay\"].dt.month"
   ]
  },
  {
   "cell_type": "code",
   "execution_count": 21,
   "id": "federal-wages",
   "metadata": {
    "execution": {
     "iopub.execute_input": "2021-04-24T21:13:03.793544Z",
     "iopub.status.busy": "2021-04-24T21:13:03.792920Z",
     "iopub.status.idle": "2021-04-24T21:13:03.800200Z",
     "shell.execute_reply": "2021-04-24T21:13:03.800740Z"
    },
    "papermill": {
     "duration": 0.093018,
     "end_time": "2021-04-24T21:13:03.800929",
     "exception": false,
     "start_time": "2021-04-24T21:13:03.707911",
     "status": "completed"
    },
    "tags": []
   },
   "outputs": [
    {
     "data": {
      "text/plain": [
       "5     67421\n",
       "4     25339\n",
       "6     13750\n",
       "3      3614\n",
       "2       281\n",
       "12       61\n",
       "1        60\n",
       "11        1\n",
       "Name: Scheduled_Mth, dtype: int64"
      ]
     },
     "execution_count": 21,
     "metadata": {},
     "output_type": "execute_result"
    }
   ],
   "source": [
    "data[\"Scheduled_Mth\"].value_counts()"
   ]
  },
  {
   "cell_type": "code",
   "execution_count": 22,
   "id": "otherwise-miracle",
   "metadata": {
    "execution": {
     "iopub.execute_input": "2021-04-24T21:13:03.970187Z",
     "iopub.status.busy": "2021-04-24T21:13:03.969543Z",
     "iopub.status.idle": "2021-04-24T21:13:03.985778Z",
     "shell.execute_reply": "2021-04-24T21:13:03.986265Z"
    },
    "papermill": {
     "duration": 0.102269,
     "end_time": "2021-04-24T21:13:03.986451",
     "exception": false,
     "start_time": "2021-04-24T21:13:03.884182",
     "status": "completed"
    },
    "tags": []
   },
   "outputs": [],
   "source": [
    "data[\"Scheduled_Date\"] = data[\"ScheduledDay\"].dt.day"
   ]
  },
  {
   "cell_type": "code",
   "execution_count": 23,
   "id": "sonic-judges",
   "metadata": {
    "execution": {
     "iopub.execute_input": "2021-04-24T21:13:04.157203Z",
     "iopub.status.busy": "2021-04-24T21:13:04.156539Z",
     "iopub.status.idle": "2021-04-24T21:13:04.164262Z",
     "shell.execute_reply": "2021-04-24T21:13:04.164744Z"
    },
    "papermill": {
     "duration": 0.0946,
     "end_time": "2021-04-24T21:13:04.164943",
     "exception": false,
     "start_time": "2021-04-24T21:13:04.070343",
     "status": "completed"
    },
    "tags": []
   },
   "outputs": [
    {
     "data": {
      "text/plain": [
       "2     7160\n",
       "3     6846\n",
       "6     6415\n",
       "20    5061\n",
       "25    5055\n",
       "18    4939\n",
       "5     4902\n",
       "19    4387\n",
       "11    4382\n",
       "16    4269\n",
       "29    4144\n",
       "12    4111\n",
       "10    4100\n",
       "9     4029\n",
       "1     3916\n",
       "13    3823\n",
       "30    3719\n",
       "4     3676\n",
       "17    3627\n",
       "24    3451\n",
       "31    3149\n",
       "28    2938\n",
       "7     2507\n",
       "26    2466\n",
       "27    2331\n",
       "8     2127\n",
       "15    1550\n",
       "14     847\n",
       "23     233\n",
       "22     226\n",
       "21     141\n",
       "Name: Scheduled_Date, dtype: int64"
      ]
     },
     "execution_count": 23,
     "metadata": {},
     "output_type": "execute_result"
    }
   ],
   "source": [
    "data[\"Scheduled_Date\"].value_counts()"
   ]
  },
  {
   "cell_type": "code",
   "execution_count": 24,
   "id": "reflected-underwear",
   "metadata": {
    "execution": {
     "iopub.execute_input": "2021-04-24T21:13:04.337068Z",
     "iopub.status.busy": "2021-04-24T21:13:04.336406Z",
     "iopub.status.idle": "2021-04-24T21:13:04.396512Z",
     "shell.execute_reply": "2021-04-24T21:13:04.397038Z"
    },
    "papermill": {
     "duration": 0.148284,
     "end_time": "2021-04-24T21:13:04.397210",
     "exception": false,
     "start_time": "2021-04-24T21:13:04.248926",
     "status": "completed"
    },
    "tags": []
   },
   "outputs": [
    {
     "name": "stdout",
     "output_type": "stream",
     "text": [
      "<class 'pandas.core.frame.DataFrame'>\n",
      "RangeIndex: 110527 entries, 0 to 110526\n",
      "Data columns (total 17 columns):\n",
      " #   Column          Non-Null Count   Dtype              \n",
      "---  ------          --------------   -----              \n",
      " 0   PatientId       110527 non-null  float64            \n",
      " 1   AppointmentID   110527 non-null  int64              \n",
      " 2   Gender          110527 non-null  object             \n",
      " 3   ScheduledDay    110527 non-null  datetime64[ns, UTC]\n",
      " 4   AppointmentDay  110527 non-null  object             \n",
      " 5   Age             110527 non-null  int64              \n",
      " 6   Neighbourhood   110527 non-null  object             \n",
      " 7   Scholarship     110527 non-null  int64              \n",
      " 8   Hipertension    110527 non-null  int64              \n",
      " 9   Diabetes        110527 non-null  int64              \n",
      " 10  Alcoholism      110527 non-null  int64              \n",
      " 11  Handcap         110527 non-null  int64              \n",
      " 12  SMS_received    110527 non-null  int64              \n",
      " 13  No-show         110527 non-null  object             \n",
      " 14  Scheduled_Yr    110527 non-null  int64              \n",
      " 15  Scheduled_Mth   110527 non-null  int64              \n",
      " 16  Scheduled_Date  110527 non-null  int64              \n",
      "dtypes: datetime64[ns, UTC](1), float64(1), int64(11), object(4)\n",
      "memory usage: 14.3+ MB\n"
     ]
    }
   ],
   "source": [
    "data.info()"
   ]
  },
  {
   "cell_type": "markdown",
   "id": "sufficient-elizabeth",
   "metadata": {
    "papermill": {
     "duration": 0.083126,
     "end_time": "2021-04-24T21:13:04.564715",
     "exception": false,
     "start_time": "2021-04-24T21:13:04.481589",
     "status": "completed"
    },
    "tags": []
   },
   "source": [
    "### Since the feature \"ScheduledDay\" has been engineered into 3 new features in datetime format, it is no longer needed. "
   ]
  },
  {
   "cell_type": "code",
   "execution_count": 25,
   "id": "mature-complaint",
   "metadata": {
    "execution": {
     "iopub.execute_input": "2021-04-24T21:13:04.739997Z",
     "iopub.status.busy": "2021-04-24T21:13:04.738684Z",
     "iopub.status.idle": "2021-04-24T21:13:04.759226Z",
     "shell.execute_reply": "2021-04-24T21:13:04.758664Z"
    },
    "papermill": {
     "duration": 0.110424,
     "end_time": "2021-04-24T21:13:04.759374",
     "exception": false,
     "start_time": "2021-04-24T21:13:04.648950",
     "status": "completed"
    },
    "tags": []
   },
   "outputs": [],
   "source": [
    "data = data.drop(\"ScheduledDay\", axis=1)"
   ]
  },
  {
   "cell_type": "markdown",
   "id": "surrounded-genius",
   "metadata": {
    "papermill": {
     "duration": 0.083364,
     "end_time": "2021-04-24T21:13:04.926990",
     "exception": false,
     "start_time": "2021-04-24T21:13:04.843626",
     "status": "completed"
    },
    "tags": []
   },
   "source": [
    "### Visualizing the \"ScheduledDate\" feature. Noted that appointments were made across except 21st to 23rd. "
   ]
  },
  {
   "cell_type": "code",
   "execution_count": 26,
   "id": "powered-section",
   "metadata": {
    "execution": {
     "iopub.execute_input": "2021-04-24T21:13:05.099283Z",
     "iopub.status.busy": "2021-04-24T21:13:05.098661Z",
     "iopub.status.idle": "2021-04-24T21:13:05.727916Z",
     "shell.execute_reply": "2021-04-24T21:13:05.728460Z"
    },
    "papermill": {
     "duration": 0.717789,
     "end_time": "2021-04-24T21:13:05.728630",
     "exception": false,
     "start_time": "2021-04-24T21:13:05.010841",
     "status": "completed"
    },
    "tags": []
   },
   "outputs": [
    {
     "data": {
      "text/plain": [
       "<AxesSubplot:xlabel='Scheduled_Date', ylabel='count'>"
      ]
     },
     "execution_count": 26,
     "metadata": {},
     "output_type": "execute_result"
    },
    {
     "data": {
      "image/png": "[encoded data removed]",
      "text/plain": [
       "<Figure size 1080x504 with 1 Axes>"
      ]
     },
     "metadata": {
      "needs_background": "light"
     },
     "output_type": "display_data"
    }
   ],
   "source": [
    "plt.figure(figsize=(15,7))\n",
    "sns.countplot(x=data[\"Scheduled_Date\"], hue=\"No-show\", data=data, color=\"seagreen\")"
   ]
  },
  {
   "cell_type": "markdown",
   "id": "bigger-designer",
   "metadata": {
    "papermill": {
     "duration": 0.08645,
     "end_time": "2021-04-24T21:13:05.900697",
     "exception": false,
     "start_time": "2021-04-24T21:13:05.814247",
     "status": "completed"
    },
    "tags": []
   },
   "source": [
    "### Visualizing the Scheduled Month. Noted that only March to June have the most appointments made throughout the year. "
   ]
  },
  {
   "cell_type": "code",
   "execution_count": 27,
   "id": "linear-broad",
   "metadata": {
    "execution": {
     "iopub.execute_input": "2021-04-24T21:13:06.075913Z",
     "iopub.status.busy": "2021-04-24T21:13:06.074907Z",
     "iopub.status.idle": "2021-04-24T21:13:06.423204Z",
     "shell.execute_reply": "2021-04-24T21:13:06.423682Z"
    },
    "papermill": {
     "duration": 0.437811,
     "end_time": "2021-04-24T21:13:06.423883",
     "exception": false,
     "start_time": "2021-04-24T21:13:05.986072",
     "status": "completed"
    },
    "tags": []
   },
   "outputs": [
    {
     "data": {
      "text/plain": [
       "<AxesSubplot:xlabel='Scheduled_Mth', ylabel='count'>"
      ]
     },
     "execution_count": 27,
     "metadata": {},
     "output_type": "execute_result"
    },
    {
     "data": {
      "image/png": "[encoded data removed]",
      "text/plain": [
       "<Figure size 1080x504 with 1 Axes>"
      ]
     },
     "metadata": {
      "needs_background": "light"
     },
     "output_type": "display_data"
    }
   ],
   "source": [
    "plt.figure(figsize=(15,7))\n",
    "sns.countplot(x=data[\"Scheduled_Mth\"], hue=\"No-show\", data=data, color=\"blue\")"
   ]
  },
  {
   "cell_type": "code",
   "execution_count": 28,
   "id": "regular-ireland",
   "metadata": {
    "execution": {
     "iopub.execute_input": "2021-04-24T21:13:06.600377Z",
     "iopub.status.busy": "2021-04-24T21:13:06.599480Z",
     "iopub.status.idle": "2021-04-24T21:13:06.608222Z",
     "shell.execute_reply": "2021-04-24T21:13:06.608658Z"
    },
    "papermill": {
     "duration": 0.098728,
     "end_time": "2021-04-24T21:13:06.608849",
     "exception": false,
     "start_time": "2021-04-24T21:13:06.510121",
     "status": "completed"
    },
    "tags": []
   },
   "outputs": [
    {
     "data": {
      "text/plain": [
       "5     60.999575\n",
       "4     22.925620\n",
       "6     12.440399\n",
       "3      3.269789\n",
       "2      0.254237\n",
       "12     0.055190\n",
       "1      0.054285\n",
       "11     0.000905\n",
       "Name: Scheduled_Mth, dtype: float64"
      ]
     },
     "execution_count": 28,
     "metadata": {},
     "output_type": "execute_result"
    }
   ],
   "source": [
    "data[\"Scheduled_Mth\"].value_counts(normalize=True)*100"
   ]
  },
  {
   "cell_type": "markdown",
   "id": "featured-climate",
   "metadata": {
    "papermill": {
     "duration": 0.086482,
     "end_time": "2021-04-24T21:13:06.782207",
     "exception": false,
     "start_time": "2021-04-24T21:13:06.695725",
     "status": "completed"
    },
    "tags": []
   },
   "source": [
    "###  Will replace: \n",
    "###  Month of April, May, June as 1; the rest as 0. \n",
    "###  This feature will provide us more meaningful information when feeding the data into PCA."
   ]
  },
  {
   "cell_type": "code",
   "execution_count": 29,
   "id": "listed-brighton",
   "metadata": {
    "execution": {
     "iopub.execute_input": "2021-04-24T21:13:06.962047Z",
     "iopub.status.busy": "2021-04-24T21:13:06.961082Z",
     "iopub.status.idle": "2021-04-24T21:13:06.972042Z",
     "shell.execute_reply": "2021-04-24T21:13:06.972510Z"
    },
    "papermill": {
     "duration": 0.102271,
     "end_time": "2021-04-24T21:13:06.972715",
     "exception": false,
     "start_time": "2021-04-24T21:13:06.870444",
     "status": "completed"
    },
    "tags": []
   },
   "outputs": [],
   "source": [
    "data[\"Scheduled_Mth\"] = data[\"Scheduled_Mth\"].replace([4,5,6], 100)\n",
    "data[\"Scheduled_Mth\"] = data[\"Scheduled_Mth\"].replace([1,2,3,7,8,9,10,11,12], 0)"
   ]
  },
  {
   "cell_type": "code",
   "execution_count": 30,
   "id": "guilty-draft",
   "metadata": {
    "execution": {
     "iopub.execute_input": "2021-04-24T21:13:07.151959Z",
     "iopub.status.busy": "2021-04-24T21:13:07.151010Z",
     "iopub.status.idle": "2021-04-24T21:13:07.157952Z",
     "shell.execute_reply": "2021-04-24T21:13:07.157331Z"
    },
    "papermill": {
     "duration": 0.09676,
     "end_time": "2021-04-24T21:13:07.158095",
     "exception": false,
     "start_time": "2021-04-24T21:13:07.061335",
     "status": "completed"
    },
    "tags": []
   },
   "outputs": [],
   "source": [
    "data[\"Scheduled_Mth\"] = data[\"Scheduled_Mth\"].replace(100, 1)"
   ]
  },
  {
   "cell_type": "code",
   "execution_count": 31,
   "id": "boring-negative",
   "metadata": {
    "execution": {
     "iopub.execute_input": "2021-04-24T21:13:07.338364Z",
     "iopub.status.busy": "2021-04-24T21:13:07.337416Z",
     "iopub.status.idle": "2021-04-24T21:13:07.344464Z",
     "shell.execute_reply": "2021-04-24T21:13:07.344946Z"
    },
    "papermill": {
     "duration": 0.099455,
     "end_time": "2021-04-24T21:13:07.345119",
     "exception": false,
     "start_time": "2021-04-24T21:13:07.245664",
     "status": "completed"
    },
    "tags": []
   },
   "outputs": [
    {
     "data": {
      "text/plain": [
       "1    106510\n",
       "0      4017\n",
       "Name: Scheduled_Mth, dtype: int64"
      ]
     },
     "execution_count": 31,
     "metadata": {},
     "output_type": "execute_result"
    }
   ],
   "source": [
    "data[\"Scheduled_Mth\"].value_counts()"
   ]
  },
  {
   "cell_type": "code",
   "execution_count": 32,
   "id": "outstanding-oliver",
   "metadata": {
    "execution": {
     "iopub.execute_input": "2021-04-24T21:13:07.572068Z",
     "iopub.status.busy": "2021-04-24T21:13:07.529585Z",
     "iopub.status.idle": "2021-04-24T21:13:07.587666Z",
     "shell.execute_reply": "2021-04-24T21:13:07.587126Z"
    },
    "papermill": {
     "duration": 0.151559,
     "end_time": "2021-04-24T21:13:07.587841",
     "exception": false,
     "start_time": "2021-04-24T21:13:07.436282",
     "status": "completed"
    },
    "tags": []
   },
   "outputs": [
    {
     "name": "stdout",
     "output_type": "stream",
     "text": [
      "<class 'pandas.core.frame.DataFrame'>\n",
      "RangeIndex: 110527 entries, 0 to 110526\n",
      "Data columns (total 16 columns):\n",
      " #   Column          Non-Null Count   Dtype  \n",
      "---  ------          --------------   -----  \n",
      " 0   PatientId       110527 non-null  float64\n",
      " 1   AppointmentID   110527 non-null  int64  \n",
      " 2   Gender          110527 non-null  object \n",
      " 3   AppointmentDay  110527 non-null  object \n",
      " 4   Age             110527 non-null  int64  \n",
      " 5   Neighbourhood   110527 non-null  object \n",
      " 6   Scholarship     110527 non-null  int64  \n",
      " 7   Hipertension    110527 non-null  int64  \n",
      " 8   Diabetes        110527 non-null  int64  \n",
      " 9   Alcoholism      110527 non-null  int64  \n",
      " 10  Handcap         110527 non-null  int64  \n",
      " 11  SMS_received    110527 non-null  int64  \n",
      " 12  No-show         110527 non-null  object \n",
      " 13  Scheduled_Yr    110527 non-null  int64  \n",
      " 14  Scheduled_Mth   110527 non-null  int64  \n",
      " 15  Scheduled_Date  110527 non-null  int64  \n",
      "dtypes: float64(1), int64(11), object(4)\n",
      "memory usage: 13.5+ MB\n"
     ]
    }
   ],
   "source": [
    "data.info()"
   ]
  },
  {
   "cell_type": "markdown",
   "id": "coupled-canadian",
   "metadata": {
    "papermill": {
     "duration": 0.087459,
     "end_time": "2021-04-24T21:13:07.763441",
     "exception": false,
     "start_time": "2021-04-24T21:13:07.675982",
     "status": "completed"
    },
    "tags": []
   },
   "source": [
    "### Moving on to the next feature, Appointment Day. Noted that this feature is in object datatype as well. Will need convert them into datetime format. "
   ]
  },
  {
   "cell_type": "code",
   "execution_count": 33,
   "id": "hourly-wheat",
   "metadata": {
    "execution": {
     "iopub.execute_input": "2021-04-24T21:13:07.941904Z",
     "iopub.status.busy": "2021-04-24T21:13:07.941286Z",
     "iopub.status.idle": "2021-04-24T21:13:07.973111Z",
     "shell.execute_reply": "2021-04-24T21:13:07.973555Z"
    },
    "papermill": {
     "duration": 0.122711,
     "end_time": "2021-04-24T21:13:07.973723",
     "exception": false,
     "start_time": "2021-04-24T21:13:07.851012",
     "status": "completed"
    },
    "tags": []
   },
   "outputs": [
    {
     "data": {
      "text/plain": [
       "2016-06-06T00:00:00Z    4692\n",
       "2016-05-16T00:00:00Z    4613\n",
       "2016-05-09T00:00:00Z    4520\n",
       "2016-05-30T00:00:00Z    4514\n",
       "2016-06-08T00:00:00Z    4479\n",
       "2016-05-11T00:00:00Z    4474\n",
       "2016-06-01T00:00:00Z    4464\n",
       "2016-06-07T00:00:00Z    4416\n",
       "2016-05-12T00:00:00Z    4394\n",
       "2016-05-02T00:00:00Z    4376\n",
       "2016-05-18T00:00:00Z    4373\n",
       "2016-05-17T00:00:00Z    4372\n",
       "2016-06-02T00:00:00Z    4310\n",
       "2016-05-10T00:00:00Z    4308\n",
       "2016-05-31T00:00:00Z    4279\n",
       "2016-05-05T00:00:00Z    4273\n",
       "2016-05-19T00:00:00Z    4270\n",
       "2016-05-03T00:00:00Z    4256\n",
       "2016-05-04T00:00:00Z    4168\n",
       "2016-06-03T00:00:00Z    4090\n",
       "2016-05-24T00:00:00Z    4009\n",
       "2016-05-13T00:00:00Z    3987\n",
       "2016-05-25T00:00:00Z    3909\n",
       "2016-05-06T00:00:00Z    3879\n",
       "2016-05-20T00:00:00Z    3828\n",
       "2016-04-29T00:00:00Z    3235\n",
       "2016-05-14T00:00:00Z      39\n",
       "Name: AppointmentDay, dtype: int64"
      ]
     },
     "execution_count": 33,
     "metadata": {},
     "output_type": "execute_result"
    }
   ],
   "source": [
    "data[\"AppointmentDay\"].value_counts()"
   ]
  },
  {
   "cell_type": "code",
   "execution_count": 34,
   "id": "color-memorabilia",
   "metadata": {
    "execution": {
     "iopub.execute_input": "2021-04-24T21:13:08.156645Z",
     "iopub.status.busy": "2021-04-24T21:13:08.155959Z",
     "iopub.status.idle": "2021-04-24T21:13:08.190958Z",
     "shell.execute_reply": "2021-04-24T21:13:08.190337Z"
    },
    "papermill": {
     "duration": 0.127117,
     "end_time": "2021-04-24T21:13:08.191116",
     "exception": false,
     "start_time": "2021-04-24T21:13:08.063999",
     "status": "completed"
    },
    "tags": []
   },
   "outputs": [],
   "source": [
    "data[\"AppointmentDay\"] = pd.to_datetime(data[\"AppointmentDay\"])"
   ]
  },
  {
   "cell_type": "code",
   "execution_count": 35,
   "id": "cordless-clock",
   "metadata": {
    "execution": {
     "iopub.execute_input": "2021-04-24T21:13:08.396935Z",
     "iopub.status.busy": "2021-04-24T21:13:08.395986Z",
     "iopub.status.idle": "2021-04-24T21:13:08.411589Z",
     "shell.execute_reply": "2021-04-24T21:13:08.412064Z"
    },
    "papermill": {
     "duration": 0.108853,
     "end_time": "2021-04-24T21:13:08.412245",
     "exception": false,
     "start_time": "2021-04-24T21:13:08.303392",
     "status": "completed"
    },
    "tags": []
   },
   "outputs": [],
   "source": [
    "data[\"Appointment_Yr\"] = data[\"AppointmentDay\"].dt.year"
   ]
  },
  {
   "cell_type": "code",
   "execution_count": 36,
   "id": "adult-owner",
   "metadata": {
    "execution": {
     "iopub.execute_input": "2021-04-24T21:13:08.595443Z",
     "iopub.status.busy": "2021-04-24T21:13:08.594463Z",
     "iopub.status.idle": "2021-04-24T21:13:08.611191Z",
     "shell.execute_reply": "2021-04-24T21:13:08.610532Z"
    },
    "papermill": {
     "duration": 0.108902,
     "end_time": "2021-04-24T21:13:08.611345",
     "exception": false,
     "start_time": "2021-04-24T21:13:08.502443",
     "status": "completed"
    },
    "tags": []
   },
   "outputs": [],
   "source": [
    "data[\"Appointment_Mth\"] = data[\"AppointmentDay\"].dt.month"
   ]
  },
  {
   "cell_type": "code",
   "execution_count": 37,
   "id": "distant-thought",
   "metadata": {
    "execution": {
     "iopub.execute_input": "2021-04-24T21:13:08.792773Z",
     "iopub.status.busy": "2021-04-24T21:13:08.792146Z",
     "iopub.status.idle": "2021-04-24T21:13:08.807658Z",
     "shell.execute_reply": "2021-04-24T21:13:08.808154Z"
    },
    "papermill": {
     "duration": 0.107865,
     "end_time": "2021-04-24T21:13:08.808331",
     "exception": false,
     "start_time": "2021-04-24T21:13:08.700466",
     "status": "completed"
    },
    "tags": []
   },
   "outputs": [],
   "source": [
    "data[\"Appointment_Date\"] = data[\"AppointmentDay\"].dt.day"
   ]
  },
  {
   "cell_type": "code",
   "execution_count": 38,
   "id": "novel-turkey",
   "metadata": {
    "execution": {
     "iopub.execute_input": "2021-04-24T21:13:08.990530Z",
     "iopub.status.busy": "2021-04-24T21:13:08.989850Z",
     "iopub.status.idle": "2021-04-24T21:13:09.041182Z",
     "shell.execute_reply": "2021-04-24T21:13:09.041678Z"
    },
    "papermill": {
     "duration": 0.144385,
     "end_time": "2021-04-24T21:13:09.041860",
     "exception": false,
     "start_time": "2021-04-24T21:13:08.897475",
     "status": "completed"
    },
    "tags": []
   },
   "outputs": [
    {
     "name": "stdout",
     "output_type": "stream",
     "text": [
      "<class 'pandas.core.frame.DataFrame'>\n",
      "RangeIndex: 110527 entries, 0 to 110526\n",
      "Data columns (total 19 columns):\n",
      " #   Column            Non-Null Count   Dtype              \n",
      "---  ------            --------------   -----              \n",
      " 0   PatientId         110527 non-null  float64            \n",
      " 1   AppointmentID     110527 non-null  int64              \n",
      " 2   Gender            110527 non-null  object             \n",
      " 3   AppointmentDay    110527 non-null  datetime64[ns, UTC]\n",
      " 4   Age               110527 non-null  int64              \n",
      " 5   Neighbourhood     110527 non-null  object             \n",
      " 6   Scholarship       110527 non-null  int64              \n",
      " 7   Hipertension      110527 non-null  int64              \n",
      " 8   Diabetes          110527 non-null  int64              \n",
      " 9   Alcoholism        110527 non-null  int64              \n",
      " 10  Handcap           110527 non-null  int64              \n",
      " 11  SMS_received      110527 non-null  int64              \n",
      " 12  No-show           110527 non-null  object             \n",
      " 13  Scheduled_Yr      110527 non-null  int64              \n",
      " 14  Scheduled_Mth     110527 non-null  int64              \n",
      " 15  Scheduled_Date    110527 non-null  int64              \n",
      " 16  Appointment_Yr    110527 non-null  int64              \n",
      " 17  Appointment_Mth   110527 non-null  int64              \n",
      " 18  Appointment_Date  110527 non-null  int64              \n",
      "dtypes: datetime64[ns, UTC](1), float64(1), int64(14), object(3)\n",
      "memory usage: 16.0+ MB\n"
     ]
    }
   ],
   "source": [
    "data.info()"
   ]
  },
  {
   "cell_type": "markdown",
   "id": "eight-solomon",
   "metadata": {
    "papermill": {
     "duration": 0.089184,
     "end_time": "2021-04-24T21:13:09.222478",
     "exception": false,
     "start_time": "2021-04-24T21:13:09.133294",
     "status": "completed"
    },
    "tags": []
   },
   "source": [
    "### Similarly to ScheduledDay feature, this feature is no longer needed since feature engineering has been done. "
   ]
  },
  {
   "cell_type": "code",
   "execution_count": 39,
   "id": "different-needle",
   "metadata": {
    "execution": {
     "iopub.execute_input": "2021-04-24T21:13:09.407560Z",
     "iopub.status.busy": "2021-04-24T21:13:09.406870Z",
     "iopub.status.idle": "2021-04-24T21:13:09.429902Z",
     "shell.execute_reply": "2021-04-24T21:13:09.430376Z"
    },
    "papermill": {
     "duration": 0.117621,
     "end_time": "2021-04-24T21:13:09.430619",
     "exception": false,
     "start_time": "2021-04-24T21:13:09.312998",
     "status": "completed"
    },
    "tags": []
   },
   "outputs": [],
   "source": [
    "data = data.drop(\"AppointmentDay\", axis=1)"
   ]
  },
  {
   "cell_type": "code",
   "execution_count": 40,
   "id": "public-porter",
   "metadata": {
    "execution": {
     "iopub.execute_input": "2021-04-24T21:13:09.614142Z",
     "iopub.status.busy": "2021-04-24T21:13:09.613486Z",
     "iopub.status.idle": "2021-04-24T21:13:09.663781Z",
     "shell.execute_reply": "2021-04-24T21:13:09.664422Z"
    },
    "papermill": {
     "duration": 0.143501,
     "end_time": "2021-04-24T21:13:09.664606",
     "exception": false,
     "start_time": "2021-04-24T21:13:09.521105",
     "status": "completed"
    },
    "tags": []
   },
   "outputs": [
    {
     "name": "stdout",
     "output_type": "stream",
     "text": [
      "<class 'pandas.core.frame.DataFrame'>\n",
      "RangeIndex: 110527 entries, 0 to 110526\n",
      "Data columns (total 18 columns):\n",
      " #   Column            Non-Null Count   Dtype  \n",
      "---  ------            --------------   -----  \n",
      " 0   PatientId         110527 non-null  float64\n",
      " 1   AppointmentID     110527 non-null  int64  \n",
      " 2   Gender            110527 non-null  object \n",
      " 3   Age               110527 non-null  int64  \n",
      " 4   Neighbourhood     110527 non-null  object \n",
      " 5   Scholarship       110527 non-null  int64  \n",
      " 6   Hipertension      110527 non-null  int64  \n",
      " 7   Diabetes          110527 non-null  int64  \n",
      " 8   Alcoholism        110527 non-null  int64  \n",
      " 9   Handcap           110527 non-null  int64  \n",
      " 10  SMS_received      110527 non-null  int64  \n",
      " 11  No-show           110527 non-null  object \n",
      " 12  Scheduled_Yr      110527 non-null  int64  \n",
      " 13  Scheduled_Mth     110527 non-null  int64  \n",
      " 14  Scheduled_Date    110527 non-null  int64  \n",
      " 15  Appointment_Yr    110527 non-null  int64  \n",
      " 16  Appointment_Mth   110527 non-null  int64  \n",
      " 17  Appointment_Date  110527 non-null  int64  \n",
      "dtypes: float64(1), int64(14), object(3)\n",
      "memory usage: 15.2+ MB\n"
     ]
    }
   ],
   "source": [
    "data.info()"
   ]
  },
  {
   "cell_type": "markdown",
   "id": "lined-river",
   "metadata": {
    "papermill": {
     "duration": 0.091434,
     "end_time": "2021-04-24T21:13:09.898757",
     "exception": false,
     "start_time": "2021-04-24T21:13:09.807323",
     "status": "completed"
    },
    "tags": []
   },
   "source": [
    "# Fun Fact:\n",
    "###   The probability of picking a male patient, who made an appointment is 35%.\n",
    "###   The probability of picking a female patient, who made an appointment is 65%."
   ]
  },
  {
   "cell_type": "code",
   "execution_count": 41,
   "id": "respective-institute",
   "metadata": {
    "execution": {
     "iopub.execute_input": "2021-04-24T21:13:10.084269Z",
     "iopub.status.busy": "2021-04-24T21:13:10.083613Z",
     "iopub.status.idle": "2021-04-24T21:13:10.115037Z",
     "shell.execute_reply": "2021-04-24T21:13:10.115478Z"
    },
    "papermill": {
     "duration": 0.126019,
     "end_time": "2021-04-24T21:13:10.115647",
     "exception": false,
     "start_time": "2021-04-24T21:13:09.989628",
     "status": "completed"
    },
    "tags": []
   },
   "outputs": [
    {
     "data": {
      "text/plain": [
       "F    64.997693\n",
       "M    35.002307\n",
       "Name: Gender, dtype: float64"
      ]
     },
     "execution_count": 41,
     "metadata": {},
     "output_type": "execute_result"
    }
   ],
   "source": [
    "data[\"Gender\"].value_counts(normalize=True)*100"
   ]
  },
  {
   "cell_type": "markdown",
   "id": "vietnamese-sunrise",
   "metadata": {
    "papermill": {
     "duration": 0.091117,
     "end_time": "2021-04-24T21:13:10.298669",
     "exception": false,
     "start_time": "2021-04-24T21:13:10.207552",
     "status": "completed"
    },
    "tags": []
   },
   "source": [
    "# Fun Fact:\n",
    "###   The probability of picking a male patient, who missed the appointment is 34.6%\n",
    "###   The probability of picking a female patient, who missed the appointment is 65.4%."
   ]
  },
  {
   "cell_type": "code",
   "execution_count": 42,
   "id": "super-undergraduate",
   "metadata": {
    "execution": {
     "iopub.execute_input": "2021-04-24T21:13:10.496078Z",
     "iopub.status.busy": "2021-04-24T21:13:10.495378Z",
     "iopub.status.idle": "2021-04-24T21:13:10.522615Z",
     "shell.execute_reply": "2021-04-24T21:13:10.522118Z"
    },
    "papermill": {
     "duration": 0.131311,
     "end_time": "2021-04-24T21:13:10.522756",
     "exception": false,
     "start_time": "2021-04-24T21:13:10.391445",
     "status": "completed"
    },
    "tags": []
   },
   "outputs": [
    {
     "data": {
      "text/plain": [
       "No-show  Gender\n",
       "No       F         64.898875\n",
       "         M         35.101125\n",
       "Yes      F         65.388234\n",
       "         M         34.611766\n",
       "Name: Gender, dtype: float64"
      ]
     },
     "execution_count": 42,
     "metadata": {},
     "output_type": "execute_result"
    }
   ],
   "source": [
    "gb_gender = data.groupby(\"No-show\")[\"Gender\"]\n",
    "gb_gender.value_counts(normalize=True)*100"
   ]
  },
  {
   "cell_type": "markdown",
   "id": "painful-hello",
   "metadata": {
    "papermill": {
     "duration": 0.091792,
     "end_time": "2021-04-24T21:13:10.707642",
     "exception": false,
     "start_time": "2021-04-24T21:13:10.615850",
     "status": "completed"
    },
    "tags": []
   },
   "source": [
    "###    Noted that gender gives us almost the same proportion in data length, missed appointment, and made to the appointment. It does not look like it is a meaningful feature. Will drop this feature. "
   ]
  },
  {
   "cell_type": "code",
   "execution_count": 43,
   "id": "spectacular-gardening",
   "metadata": {
    "execution": {
     "iopub.execute_input": "2021-04-24T21:13:10.895063Z",
     "iopub.status.busy": "2021-04-24T21:13:10.894383Z",
     "iopub.status.idle": "2021-04-24T21:13:10.905327Z",
     "shell.execute_reply": "2021-04-24T21:13:10.905821Z"
    },
    "papermill": {
     "duration": 0.105933,
     "end_time": "2021-04-24T21:13:10.906001",
     "exception": false,
     "start_time": "2021-04-24T21:13:10.800068",
     "status": "completed"
    },
    "tags": []
   },
   "outputs": [],
   "source": [
    "data = data.drop(\"Gender\", axis=1)"
   ]
  },
  {
   "cell_type": "markdown",
   "id": "precious-conducting",
   "metadata": {
    "papermill": {
     "duration": 0.093241,
     "end_time": "2021-04-24T21:13:11.090921",
     "exception": false,
     "start_time": "2021-04-24T21:13:10.997680",
     "status": "completed"
    },
    "tags": []
   },
   "source": [
    "### Moving to the next feature: Neighbourhood"
   ]
  },
  {
   "cell_type": "code",
   "execution_count": 44,
   "id": "structural-kitty",
   "metadata": {
    "execution": {
     "iopub.execute_input": "2021-04-24T21:13:11.279413Z",
     "iopub.status.busy": "2021-04-24T21:13:11.278761Z",
     "iopub.status.idle": "2021-04-24T21:13:11.312072Z",
     "shell.execute_reply": "2021-04-24T21:13:11.312608Z"
    },
    "papermill": {
     "duration": 0.128906,
     "end_time": "2021-04-24T21:13:11.312788",
     "exception": false,
     "start_time": "2021-04-24T21:13:11.183882",
     "status": "completed"
    },
    "tags": []
   },
   "outputs": [
    {
     "data": {
      "text/plain": [
       "JARDIM CAMBURI                 6.982004\n",
       "MARIA ORTIZ                    5.252110\n",
       "RESISTÊNCIA                    4.008975\n",
       "JARDIM DA PENHA                3.507740\n",
       "ITARARÉ                        3.179314\n",
       "                                 ...   \n",
       "ILHA DO BOI                    0.031666\n",
       "ILHA DO FRADE                  0.009048\n",
       "AEROPORTO                      0.007238\n",
       "ILHAS OCEÂNICAS DE TRINDADE    0.001810\n",
       "PARQUE INDUSTRIAL              0.000905\n",
       "Name: Neighbourhood, Length: 81, dtype: float64"
      ]
     },
     "execution_count": 44,
     "metadata": {},
     "output_type": "execute_result"
    }
   ],
   "source": [
    "data[\"Neighbourhood\"].value_counts(normalize=True)*100"
   ]
  },
  {
   "cell_type": "markdown",
   "id": "confident-serbia",
   "metadata": {
    "papermill": {
     "duration": 0.092875,
     "end_time": "2021-04-24T21:13:11.500580",
     "exception": false,
     "start_time": "2021-04-24T21:13:11.407705",
     "status": "completed"
    },
    "tags": []
   },
   "source": [
    "###  The \"Neighbourhood\" feature's length is 81 and the value of each in percentage, as shown above, does not really give any meaningful information. Will just drop this feature. "
   ]
  },
  {
   "cell_type": "code",
   "execution_count": 45,
   "id": "likely-reasoning",
   "metadata": {
    "execution": {
     "iopub.execute_input": "2021-04-24T21:13:11.689540Z",
     "iopub.status.busy": "2021-04-24T21:13:11.688864Z",
     "iopub.status.idle": "2021-04-24T21:13:11.700614Z",
     "shell.execute_reply": "2021-04-24T21:13:11.701127Z"
    },
    "papermill": {
     "duration": 0.107214,
     "end_time": "2021-04-24T21:13:11.701315",
     "exception": false,
     "start_time": "2021-04-24T21:13:11.594101",
     "status": "completed"
    },
    "tags": []
   },
   "outputs": [],
   "source": [
    "data = data.drop(\"Neighbourhood\", axis=1)"
   ]
  },
  {
   "cell_type": "code",
   "execution_count": 46,
   "id": "worst-weekly",
   "metadata": {
    "execution": {
     "iopub.execute_input": "2021-04-24T21:13:11.889988Z",
     "iopub.status.busy": "2021-04-24T21:13:11.889325Z",
     "iopub.status.idle": "2021-04-24T21:13:11.918624Z",
     "shell.execute_reply": "2021-04-24T21:13:11.917842Z"
    },
    "papermill": {
     "duration": 0.124655,
     "end_time": "2021-04-24T21:13:11.918845",
     "exception": false,
     "start_time": "2021-04-24T21:13:11.794190",
     "status": "completed"
    },
    "tags": []
   },
   "outputs": [
    {
     "name": "stdout",
     "output_type": "stream",
     "text": [
      "<class 'pandas.core.frame.DataFrame'>\n",
      "RangeIndex: 110527 entries, 0 to 110526\n",
      "Data columns (total 16 columns):\n",
      " #   Column            Non-Null Count   Dtype  \n",
      "---  ------            --------------   -----  \n",
      " 0   PatientId         110527 non-null  float64\n",
      " 1   AppointmentID     110527 non-null  int64  \n",
      " 2   Age               110527 non-null  int64  \n",
      " 3   Scholarship       110527 non-null  int64  \n",
      " 4   Hipertension      110527 non-null  int64  \n",
      " 5   Diabetes          110527 non-null  int64  \n",
      " 6   Alcoholism        110527 non-null  int64  \n",
      " 7   Handcap           110527 non-null  int64  \n",
      " 8   SMS_received      110527 non-null  int64  \n",
      " 9   No-show           110527 non-null  object \n",
      " 10  Scheduled_Yr      110527 non-null  int64  \n",
      " 11  Scheduled_Mth     110527 non-null  int64  \n",
      " 12  Scheduled_Date    110527 non-null  int64  \n",
      " 13  Appointment_Yr    110527 non-null  int64  \n",
      " 14  Appointment_Mth   110527 non-null  int64  \n",
      " 15  Appointment_Date  110527 non-null  int64  \n",
      "dtypes: float64(1), int64(14), object(1)\n",
      "memory usage: 13.5+ MB\n"
     ]
    }
   ],
   "source": [
    "data.info()"
   ]
  },
  {
   "cell_type": "markdown",
   "id": "legendary-colonial",
   "metadata": {
    "papermill": {
     "duration": 0.094231,
     "end_time": "2021-04-24T21:13:12.107866",
     "exception": false,
     "start_time": "2021-04-24T21:13:12.013635",
     "status": "completed"
    },
    "tags": []
   },
   "source": [
    "### Next is our target feature or y-variable: No-show. Yes is number of people who did not show up to the appointment. "
   ]
  },
  {
   "cell_type": "code",
   "execution_count": 47,
   "id": "incident-mediterranean",
   "metadata": {
    "execution": {
     "iopub.execute_input": "2021-04-24T21:13:12.325974Z",
     "iopub.status.busy": "2021-04-24T21:13:12.323501Z",
     "iopub.status.idle": "2021-04-24T21:13:12.329466Z",
     "shell.execute_reply": "2021-04-24T21:13:12.330001Z"
    },
    "papermill": {
     "duration": 0.129134,
     "end_time": "2021-04-24T21:13:12.330179",
     "exception": false,
     "start_time": "2021-04-24T21:13:12.201045",
     "status": "completed"
    },
    "tags": []
   },
   "outputs": [
    {
     "data": {
      "text/plain": [
       "No     88208\n",
       "Yes    22319\n",
       "Name: No-show, dtype: int64"
      ]
     },
     "execution_count": 47,
     "metadata": {},
     "output_type": "execute_result"
    }
   ],
   "source": [
    "data[\"No-show\"].value_counts()"
   ]
  },
  {
   "cell_type": "markdown",
   "id": "ideal-crest",
   "metadata": {
    "papermill": {
     "duration": 0.093464,
     "end_time": "2021-04-24T21:13:12.517568",
     "exception": false,
     "start_time": "2021-04-24T21:13:12.424104",
     "status": "completed"
    },
    "tags": []
   },
   "source": [
    "### About 20% of the patients did not show up to the appointments. This is significant, considering the healthcare professionals, who anticipated the patient, and became idled for the next 30 minutes or 1 hour. Overall, a healthcare worker will be idling (not doing anything) 20% of the time, which is not productive from the finance perspective. "
   ]
  },
  {
   "cell_type": "code",
   "execution_count": 48,
   "id": "stopped-headquarters",
   "metadata": {
    "execution": {
     "iopub.execute_input": "2021-04-24T21:13:12.706393Z",
     "iopub.status.busy": "2021-04-24T21:13:12.705707Z",
     "iopub.status.idle": "2021-04-24T21:13:12.739407Z",
     "shell.execute_reply": "2021-04-24T21:13:12.738885Z"
    },
    "papermill": {
     "duration": 0.129123,
     "end_time": "2021-04-24T21:13:12.739548",
     "exception": false,
     "start_time": "2021-04-24T21:13:12.610425",
     "status": "completed"
    },
    "tags": []
   },
   "outputs": [
    {
     "data": {
      "text/plain": [
       "No     79.806744\n",
       "Yes    20.193256\n",
       "Name: No-show, dtype: float64"
      ]
     },
     "execution_count": 48,
     "metadata": {},
     "output_type": "execute_result"
    }
   ],
   "source": [
    "data[\"No-show\"].value_counts(normalize=True)*100"
   ]
  },
  {
   "cell_type": "code",
   "execution_count": 49,
   "id": "roman-effectiveness",
   "metadata": {
    "execution": {
     "iopub.execute_input": "2021-04-24T21:13:12.946320Z",
     "iopub.status.busy": "2021-04-24T21:13:12.945565Z",
     "iopub.status.idle": "2021-04-24T21:13:13.169947Z",
     "shell.execute_reply": "2021-04-24T21:13:13.170455Z"
    },
    "papermill": {
     "duration": 0.337608,
     "end_time": "2021-04-24T21:13:13.170661",
     "exception": false,
     "start_time": "2021-04-24T21:13:12.833053",
     "status": "completed"
    },
    "tags": []
   },
   "outputs": [
    {
     "data": {
      "text/plain": [
       "<AxesSubplot:xlabel='No-show', ylabel='count'>"
      ]
     },
     "execution_count": 49,
     "metadata": {},
     "output_type": "execute_result"
    },
    {
     "data": {
      "image/png": "[encoded data removed]",
      "text/plain": [
       "<Figure size 864x504 with 1 Axes>"
      ]
     },
     "metadata": {
      "needs_background": "light"
     },
     "output_type": "display_data"
    }
   ],
   "source": [
    "plt.figure(figsize=(12,7))\n",
    "sns.set_context(\"paper\", font_scale=1.5)\n",
    "sns.countplot(x=data[\"No-show\"], color=\"pink\")"
   ]
  },
  {
   "cell_type": "markdown",
   "id": "destroyed-durham",
   "metadata": {
    "papermill": {
     "duration": 0.094942,
     "end_time": "2021-04-24T21:13:13.360638",
     "exception": false,
     "start_time": "2021-04-24T21:13:13.265696",
     "status": "completed"
    },
    "tags": []
   },
   "source": [
    "### The target-feature will be mapped as a binary classification: Yes as 1, No as 0. "
   ]
  },
  {
   "cell_type": "code",
   "execution_count": 50,
   "id": "smooth-baking",
   "metadata": {
    "execution": {
     "iopub.execute_input": "2021-04-24T21:13:13.571253Z",
     "iopub.status.busy": "2021-04-24T21:13:13.570280Z",
     "iopub.status.idle": "2021-04-24T21:13:13.574979Z",
     "shell.execute_reply": "2021-04-24T21:13:13.574335Z"
    },
    "papermill": {
     "duration": 0.118359,
     "end_time": "2021-04-24T21:13:13.575131",
     "exception": false,
     "start_time": "2021-04-24T21:13:13.456772",
     "status": "completed"
    },
    "tags": []
   },
   "outputs": [],
   "source": [
    "data[\"No-show\"] = data[\"No-show\"].map({\"Yes\": 1, \"No\": 0})"
   ]
  },
  {
   "cell_type": "code",
   "execution_count": 51,
   "id": "contained-needle",
   "metadata": {
    "execution": {
     "iopub.execute_input": "2021-04-24T21:13:13.770646Z",
     "iopub.status.busy": "2021-04-24T21:13:13.769635Z",
     "iopub.status.idle": "2021-04-24T21:13:13.776925Z",
     "shell.execute_reply": "2021-04-24T21:13:13.776356Z"
    },
    "papermill": {
     "duration": 0.107227,
     "end_time": "2021-04-24T21:13:13.777066",
     "exception": false,
     "start_time": "2021-04-24T21:13:13.669839",
     "status": "completed"
    },
    "tags": []
   },
   "outputs": [
    {
     "data": {
      "text/plain": [
       "0    88208\n",
       "1    22319\n",
       "Name: No-show, dtype: int64"
      ]
     },
     "execution_count": 51,
     "metadata": {},
     "output_type": "execute_result"
    }
   ],
   "source": [
    "data[\"No-show\"].value_counts()"
   ]
  },
  {
   "cell_type": "code",
   "execution_count": 52,
   "id": "scheduled-advance",
   "metadata": {
    "execution": {
     "iopub.execute_input": "2021-04-24T21:13:13.975367Z",
     "iopub.status.busy": "2021-04-24T21:13:13.974732Z",
     "iopub.status.idle": "2021-04-24T21:13:13.989698Z",
     "shell.execute_reply": "2021-04-24T21:13:13.990241Z"
    },
    "papermill": {
     "duration": 0.115638,
     "end_time": "2021-04-24T21:13:13.990423",
     "exception": false,
     "start_time": "2021-04-24T21:13:13.874785",
     "status": "completed"
    },
    "tags": []
   },
   "outputs": [
    {
     "name": "stdout",
     "output_type": "stream",
     "text": [
      "<class 'pandas.core.frame.DataFrame'>\n",
      "RangeIndex: 110527 entries, 0 to 110526\n",
      "Data columns (total 16 columns):\n",
      " #   Column            Non-Null Count   Dtype  \n",
      "---  ------            --------------   -----  \n",
      " 0   PatientId         110527 non-null  float64\n",
      " 1   AppointmentID     110527 non-null  int64  \n",
      " 2   Age               110527 non-null  int64  \n",
      " 3   Scholarship       110527 non-null  int64  \n",
      " 4   Hipertension      110527 non-null  int64  \n",
      " 5   Diabetes          110527 non-null  int64  \n",
      " 6   Alcoholism        110527 non-null  int64  \n",
      " 7   Handcap           110527 non-null  int64  \n",
      " 8   SMS_received      110527 non-null  int64  \n",
      " 9   No-show           110527 non-null  int64  \n",
      " 10  Scheduled_Yr      110527 non-null  int64  \n",
      " 11  Scheduled_Mth     110527 non-null  int64  \n",
      " 12  Scheduled_Date    110527 non-null  int64  \n",
      " 13  Appointment_Yr    110527 non-null  int64  \n",
      " 14  Appointment_Mth   110527 non-null  int64  \n",
      " 15  Appointment_Date  110527 non-null  int64  \n",
      "dtypes: float64(1), int64(15)\n",
      "memory usage: 13.5 MB\n"
     ]
    }
   ],
   "source": [
    "data.info()"
   ]
  },
  {
   "cell_type": "markdown",
   "id": "colonial-deputy",
   "metadata": {
    "papermill": {
     "duration": 0.09564,
     "end_time": "2021-04-24T21:13:14.183927",
     "exception": false,
     "start_time": "2021-04-24T21:13:14.088287",
     "status": "completed"
    },
    "tags": []
   },
   "source": [
    "### The AppointmentID is a unique identifier for each appointment made, which does not provide meaningful information in this project. Will drop. "
   ]
  },
  {
   "cell_type": "code",
   "execution_count": 53,
   "id": "scenic-demand",
   "metadata": {
    "execution": {
     "iopub.execute_input": "2021-04-24T21:13:14.379950Z",
     "iopub.status.busy": "2021-04-24T21:13:14.379239Z",
     "iopub.status.idle": "2021-04-24T21:13:14.400739Z",
     "shell.execute_reply": "2021-04-24T21:13:14.401295Z"
    },
    "papermill": {
     "duration": 0.121027,
     "end_time": "2021-04-24T21:13:14.401532",
     "exception": false,
     "start_time": "2021-04-24T21:13:14.280505",
     "status": "completed"
    },
    "tags": []
   },
   "outputs": [],
   "source": [
    "data = data.drop(\"AppointmentID\", axis=1)"
   ]
  },
  {
   "cell_type": "code",
   "execution_count": 54,
   "id": "through-franklin",
   "metadata": {
    "execution": {
     "iopub.execute_input": "2021-04-24T21:13:14.596523Z",
     "iopub.status.busy": "2021-04-24T21:13:14.595904Z",
     "iopub.status.idle": "2021-04-24T21:13:14.602982Z",
     "shell.execute_reply": "2021-04-24T21:13:14.603451Z"
    },
    "papermill": {
     "duration": 0.105813,
     "end_time": "2021-04-24T21:13:14.603604",
     "exception": false,
     "start_time": "2021-04-24T21:13:14.497791",
     "status": "completed"
    },
    "tags": []
   },
   "outputs": [
    {
     "data": {
      "text/plain": [
       "0    99666\n",
       "1    10861\n",
       "Name: Scholarship, dtype: int64"
      ]
     },
     "execution_count": 54,
     "metadata": {},
     "output_type": "execute_result"
    }
   ],
   "source": [
    "data[\"Scholarship\"].value_counts()"
   ]
  },
  {
   "cell_type": "code",
   "execution_count": 55,
   "id": "muslim-title",
   "metadata": {
    "execution": {
     "iopub.execute_input": "2021-04-24T21:13:14.802249Z",
     "iopub.status.busy": "2021-04-24T21:13:14.801190Z",
     "iopub.status.idle": "2021-04-24T21:13:14.809500Z",
     "shell.execute_reply": "2021-04-24T21:13:14.808984Z"
    },
    "papermill": {
     "duration": 0.109619,
     "end_time": "2021-04-24T21:13:14.809639",
     "exception": false,
     "start_time": "2021-04-24T21:13:14.700020",
     "status": "completed"
    },
    "tags": []
   },
   "outputs": [
    {
     "data": {
      "text/plain": [
       " 0      3539\n",
       " 1      2273\n",
       " 52     1746\n",
       " 49     1652\n",
       " 53     1651\n",
       "        ... \n",
       " 115       5\n",
       " 100       4\n",
       " 102       2\n",
       " 99        1\n",
       "-1         1\n",
       "Name: Age, Length: 104, dtype: int64"
      ]
     },
     "execution_count": 55,
     "metadata": {},
     "output_type": "execute_result"
    }
   ],
   "source": [
    "data[\"Age\"].value_counts()"
   ]
  },
  {
   "cell_type": "markdown",
   "id": "domestic-wheat",
   "metadata": {
    "papermill": {
     "duration": 0.097677,
     "end_time": "2021-04-24T21:13:15.005236",
     "exception": false,
     "start_time": "2021-04-24T21:13:14.907559",
     "status": "completed"
    },
    "tags": []
   },
   "source": [
    "### The \"Age\" feature as -1 is illogical. Will just drop this observation, instead of replacing it with a speculated value(mean/mode). "
   ]
  },
  {
   "cell_type": "code",
   "execution_count": 56,
   "id": "secure-scheduling",
   "metadata": {
    "execution": {
     "iopub.execute_input": "2021-04-24T21:13:15.208593Z",
     "iopub.status.busy": "2021-04-24T21:13:15.207897Z",
     "iopub.status.idle": "2021-04-24T21:13:15.211790Z",
     "shell.execute_reply": "2021-04-24T21:13:15.212375Z"
    },
    "papermill": {
     "duration": 0.109125,
     "end_time": "2021-04-24T21:13:15.212541",
     "exception": false,
     "start_time": "2021-04-24T21:13:15.103416",
     "status": "completed"
    },
    "tags": []
   },
   "outputs": [
    {
     "data": {
      "text/plain": [
       "-1"
      ]
     },
     "execution_count": 56,
     "metadata": {},
     "output_type": "execute_result"
    }
   ],
   "source": [
    "data[\"Age\"].min()"
   ]
  },
  {
   "cell_type": "code",
   "execution_count": 57,
   "id": "heavy-regulation",
   "metadata": {
    "execution": {
     "iopub.execute_input": "2021-04-24T21:13:15.413007Z",
     "iopub.status.busy": "2021-04-24T21:13:15.412281Z",
     "iopub.status.idle": "2021-04-24T21:13:15.428505Z",
     "shell.execute_reply": "2021-04-24T21:13:15.427923Z"
    },
    "papermill": {
     "duration": 0.116695,
     "end_time": "2021-04-24T21:13:15.428657",
     "exception": false,
     "start_time": "2021-04-24T21:13:15.311962",
     "status": "completed"
    },
    "tags": []
   },
   "outputs": [],
   "source": [
    "data = data.drop(data[data[\"Age\"] < 0].index)"
   ]
  },
  {
   "cell_type": "code",
   "execution_count": 58,
   "id": "constant-track",
   "metadata": {
    "execution": {
     "iopub.execute_input": "2021-04-24T21:13:15.631263Z",
     "iopub.status.busy": "2021-04-24T21:13:15.630559Z",
     "iopub.status.idle": "2021-04-24T21:13:15.638364Z",
     "shell.execute_reply": "2021-04-24T21:13:15.637869Z"
    },
    "papermill": {
     "duration": 0.110282,
     "end_time": "2021-04-24T21:13:15.638503",
     "exception": false,
     "start_time": "2021-04-24T21:13:15.528221",
     "status": "completed"
    },
    "tags": []
   },
   "outputs": [
    {
     "data": {
      "text/plain": [
       "0      3539\n",
       "1      2273\n",
       "52     1746\n",
       "49     1652\n",
       "53     1651\n",
       "       ... \n",
       "98        6\n",
       "115       5\n",
       "100       4\n",
       "102       2\n",
       "99        1\n",
       "Name: Age, Length: 103, dtype: int64"
      ]
     },
     "execution_count": 58,
     "metadata": {},
     "output_type": "execute_result"
    }
   ],
   "source": [
    "data[\"Age\"].value_counts()"
   ]
  },
  {
   "cell_type": "markdown",
   "id": "massive-douglas",
   "metadata": {
    "papermill": {
     "duration": 0.097528,
     "end_time": "2021-04-24T21:13:15.834487",
     "exception": false,
     "start_time": "2021-04-24T21:13:15.736959",
     "status": "completed"
    },
    "tags": []
   },
   "source": [
    "### Visualizing the no-show population in appointment scheduled date. Noted that the majority of patients, who did not show up is from age 0 to 60s and evenly spread across all days in a month. There is not much pattern recognized here but an assumption is that on a given day, there will be 20% of patients would not show up to the appointment. "
   ]
  },
  {
   "cell_type": "code",
   "execution_count": 59,
   "id": "buried-insured",
   "metadata": {
    "execution": {
     "iopub.execute_input": "2021-04-24T21:13:16.039396Z",
     "iopub.status.busy": "2021-04-24T21:13:16.038137Z",
     "iopub.status.idle": "2021-04-24T21:14:55.498265Z",
     "shell.execute_reply": "2021-04-24T21:14:55.497577Z"
    },
    "papermill": {
     "duration": 99.564903,
     "end_time": "2021-04-24T21:14:55.498408",
     "exception": false,
     "start_time": "2021-04-24T21:13:15.933505",
     "status": "completed"
    },
    "tags": []
   },
   "outputs": [
    {
     "data": {
      "text/plain": [
       "<AxesSubplot:xlabel='Scheduled_Date', ylabel='Age'>"
      ]
     },
     "execution_count": 59,
     "metadata": {},
     "output_type": "execute_result"
    },
    {
     "data": {
      "image/png": "[encoded data removed]",
      "text/plain": [
       "<Figure size 864x504 with 1 Axes>"
      ]
     },
     "metadata": {
      "needs_background": "light"
     },
     "output_type": "display_data"
    }
   ],
   "source": [
    "plt.figure(figsize=(12,7))\n",
    "sns.kdeplot(x=\"Scheduled_Date\", y=data[\"Age\"], data=data, hue=\"No-show\", palette=\"coolwarm\", fill=True)"
   ]
  },
  {
   "cell_type": "code",
   "execution_count": 60,
   "id": "electoral-declaration",
   "metadata": {
    "execution": {
     "iopub.execute_input": "2021-04-24T21:14:55.704146Z",
     "iopub.status.busy": "2021-04-24T21:14:55.703450Z",
     "iopub.status.idle": "2021-04-24T21:14:55.718911Z",
     "shell.execute_reply": "2021-04-24T21:14:55.719375Z"
    },
    "papermill": {
     "duration": 0.121064,
     "end_time": "2021-04-24T21:14:55.719562",
     "exception": false,
     "start_time": "2021-04-24T21:14:55.598498",
     "status": "completed"
    },
    "tags": []
   },
   "outputs": [
    {
     "name": "stdout",
     "output_type": "stream",
     "text": [
      "<class 'pandas.core.frame.DataFrame'>\n",
      "Int64Index: 110526 entries, 0 to 110526\n",
      "Data columns (total 15 columns):\n",
      " #   Column            Non-Null Count   Dtype  \n",
      "---  ------            --------------   -----  \n",
      " 0   PatientId         110526 non-null  float64\n",
      " 1   Age               110526 non-null  int64  \n",
      " 2   Scholarship       110526 non-null  int64  \n",
      " 3   Hipertension      110526 non-null  int64  \n",
      " 4   Diabetes          110526 non-null  int64  \n",
      " 5   Alcoholism        110526 non-null  int64  \n",
      " 6   Handcap           110526 non-null  int64  \n",
      " 7   SMS_received      110526 non-null  int64  \n",
      " 8   No-show           110526 non-null  int64  \n",
      " 9   Scheduled_Yr      110526 non-null  int64  \n",
      " 10  Scheduled_Mth     110526 non-null  int64  \n",
      " 11  Scheduled_Date    110526 non-null  int64  \n",
      " 12  Appointment_Yr    110526 non-null  int64  \n",
      " 13  Appointment_Mth   110526 non-null  int64  \n",
      " 14  Appointment_Date  110526 non-null  int64  \n",
      "dtypes: float64(1), int64(14)\n",
      "memory usage: 13.5 MB\n"
     ]
    }
   ],
   "source": [
    "data.info()"
   ]
  },
  {
   "cell_type": "markdown",
   "id": "imperial-consideration",
   "metadata": {
    "papermill": {
     "duration": 0.100165,
     "end_time": "2021-04-24T21:14:55.920051",
     "exception": false,
     "start_time": "2021-04-24T21:14:55.819886",
     "status": "completed"
    },
    "tags": []
   },
   "source": [
    "### Continue on with the rest of the features, which are in binary classification so not much cleansing to do. "
   ]
  },
  {
   "cell_type": "code",
   "execution_count": 61,
   "id": "australian-potato",
   "metadata": {
    "execution": {
     "iopub.execute_input": "2021-04-24T21:14:56.128248Z",
     "iopub.status.busy": "2021-04-24T21:14:56.127598Z",
     "iopub.status.idle": "2021-04-24T21:14:56.134942Z",
     "shell.execute_reply": "2021-04-24T21:14:56.134403Z"
    },
    "papermill": {
     "duration": 0.113843,
     "end_time": "2021-04-24T21:14:56.135071",
     "exception": false,
     "start_time": "2021-04-24T21:14:56.021228",
     "status": "completed"
    },
    "tags": []
   },
   "outputs": [
    {
     "data": {
      "text/plain": [
       "0    88725\n",
       "1    21801\n",
       "Name: Hipertension, dtype: int64"
      ]
     },
     "execution_count": 61,
     "metadata": {},
     "output_type": "execute_result"
    }
   ],
   "source": [
    "data[\"Hipertension\"].value_counts()"
   ]
  },
  {
   "cell_type": "code",
   "execution_count": 62,
   "id": "derived-understanding",
   "metadata": {
    "execution": {
     "iopub.execute_input": "2021-04-24T21:14:56.345173Z",
     "iopub.status.busy": "2021-04-24T21:14:56.344429Z",
     "iopub.status.idle": "2021-04-24T21:14:56.347933Z",
     "shell.execute_reply": "2021-04-24T21:14:56.348459Z"
    },
    "papermill": {
     "duration": 0.112582,
     "end_time": "2021-04-24T21:14:56.348617",
     "exception": false,
     "start_time": "2021-04-24T21:14:56.236035",
     "status": "completed"
    },
    "tags": []
   },
   "outputs": [
    {
     "data": {
      "text/plain": [
       "0    102583\n",
       "1      7943\n",
       "Name: Diabetes, dtype: int64"
      ]
     },
     "execution_count": 62,
     "metadata": {},
     "output_type": "execute_result"
    }
   ],
   "source": [
    "data[\"Diabetes\"].value_counts()"
   ]
  },
  {
   "cell_type": "code",
   "execution_count": 63,
   "id": "focused-electronics",
   "metadata": {
    "execution": {
     "iopub.execute_input": "2021-04-24T21:14:56.554888Z",
     "iopub.status.busy": "2021-04-24T21:14:56.553929Z",
     "iopub.status.idle": "2021-04-24T21:14:56.561069Z",
     "shell.execute_reply": "2021-04-24T21:14:56.560532Z"
    },
    "papermill": {
     "duration": 0.111798,
     "end_time": "2021-04-24T21:14:56.561203",
     "exception": false,
     "start_time": "2021-04-24T21:14:56.449405",
     "status": "completed"
    },
    "tags": []
   },
   "outputs": [
    {
     "data": {
      "text/plain": [
       "0    107166\n",
       "1      3360\n",
       "Name: Alcoholism, dtype: int64"
      ]
     },
     "execution_count": 63,
     "metadata": {},
     "output_type": "execute_result"
    }
   ],
   "source": [
    "data[\"Alcoholism\"].value_counts()"
   ]
  },
  {
   "cell_type": "code",
   "execution_count": 64,
   "id": "unexpected-situation",
   "metadata": {
    "execution": {
     "iopub.execute_input": "2021-04-24T21:14:56.771924Z",
     "iopub.status.busy": "2021-04-24T21:14:56.771278Z",
     "iopub.status.idle": "2021-04-24T21:14:56.774093Z",
     "shell.execute_reply": "2021-04-24T21:14:56.774595Z"
    },
    "papermill": {
     "duration": 0.111336,
     "end_time": "2021-04-24T21:14:56.774745",
     "exception": false,
     "start_time": "2021-04-24T21:14:56.663409",
     "status": "completed"
    },
    "tags": []
   },
   "outputs": [
    {
     "data": {
      "text/plain": [
       "0    108285\n",
       "1      2042\n",
       "2       183\n",
       "3        13\n",
       "4         3\n",
       "Name: Handcap, dtype: int64"
      ]
     },
     "execution_count": 64,
     "metadata": {},
     "output_type": "execute_result"
    }
   ],
   "source": [
    "data[\"Handcap\"].value_counts()"
   ]
  },
  {
   "cell_type": "code",
   "execution_count": 65,
   "id": "indian-scoop",
   "metadata": {
    "execution": {
     "iopub.execute_input": "2021-04-24T21:14:56.983047Z",
     "iopub.status.busy": "2021-04-24T21:14:56.982164Z",
     "iopub.status.idle": "2021-04-24T21:14:56.989043Z",
     "shell.execute_reply": "2021-04-24T21:14:56.989544Z"
    },
    "papermill": {
     "duration": 0.112689,
     "end_time": "2021-04-24T21:14:56.989705",
     "exception": false,
     "start_time": "2021-04-24T21:14:56.877016",
     "status": "completed"
    },
    "tags": []
   },
   "outputs": [
    {
     "data": {
      "text/plain": [
       "0    75044\n",
       "1    35482\n",
       "Name: SMS_received, dtype: int64"
      ]
     },
     "execution_count": 65,
     "metadata": {},
     "output_type": "execute_result"
    }
   ],
   "source": [
    "data[\"SMS_received\"].value_counts()"
   ]
  },
  {
   "cell_type": "markdown",
   "id": "sublime-steam",
   "metadata": {
    "papermill": {
     "duration": 0.118343,
     "end_time": "2021-04-24T21:14:57.216189",
     "exception": false,
     "start_time": "2021-04-24T21:14:57.097846",
     "status": "completed"
    },
    "tags": []
   },
   "source": [
    "### Noted that almost 32% of the patients received SMS text (assuming it is a reminder for an appointment). The question is why not all patients receive the same feature? Considering self-opt-out VS patients do not own mobile phones. This is pretty common in under-served population area. This feature can be potentially impactful in the desired outcome and is worthy of further exploration by healthcare administrators.  "
   ]
  },
  {
   "cell_type": "code",
   "execution_count": 66,
   "id": "handed-antibody",
   "metadata": {
    "execution": {
     "iopub.execute_input": "2021-04-24T21:14:57.448744Z",
     "iopub.status.busy": "2021-04-24T21:14:57.448121Z",
     "iopub.status.idle": "2021-04-24T21:14:57.459120Z",
     "shell.execute_reply": "2021-04-24T21:14:57.459626Z"
    },
    "papermill": {
     "duration": 0.126431,
     "end_time": "2021-04-24T21:14:57.459791",
     "exception": false,
     "start_time": "2021-04-24T21:14:57.333360",
     "status": "completed"
    },
    "tags": []
   },
   "outputs": [
    {
     "data": {
      "text/plain": [
       "0    0.678971\n",
       "1    0.321029\n",
       "Name: SMS_received, dtype: float64"
      ]
     },
     "execution_count": 66,
     "metadata": {},
     "output_type": "execute_result"
    }
   ],
   "source": [
    "data[\"SMS_received\"].value_counts(normalize=True)"
   ]
  },
  {
   "cell_type": "code",
   "execution_count": 67,
   "id": "resident-coating",
   "metadata": {
    "execution": {
     "iopub.execute_input": "2021-04-24T21:14:57.672219Z",
     "iopub.status.busy": "2021-04-24T21:14:57.671254Z",
     "iopub.status.idle": "2021-04-24T21:14:57.687068Z",
     "shell.execute_reply": "2021-04-24T21:14:57.687510Z"
    },
    "papermill": {
     "duration": 0.123684,
     "end_time": "2021-04-24T21:14:57.687689",
     "exception": false,
     "start_time": "2021-04-24T21:14:57.564005",
     "status": "completed"
    },
    "tags": []
   },
   "outputs": [
    {
     "name": "stdout",
     "output_type": "stream",
     "text": [
      "<class 'pandas.core.frame.DataFrame'>\n",
      "Int64Index: 110526 entries, 0 to 110526\n",
      "Data columns (total 15 columns):\n",
      " #   Column            Non-Null Count   Dtype  \n",
      "---  ------            --------------   -----  \n",
      " 0   PatientId         110526 non-null  float64\n",
      " 1   Age               110526 non-null  int64  \n",
      " 2   Scholarship       110526 non-null  int64  \n",
      " 3   Hipertension      110526 non-null  int64  \n",
      " 4   Diabetes          110526 non-null  int64  \n",
      " 5   Alcoholism        110526 non-null  int64  \n",
      " 6   Handcap           110526 non-null  int64  \n",
      " 7   SMS_received      110526 non-null  int64  \n",
      " 8   No-show           110526 non-null  int64  \n",
      " 9   Scheduled_Yr      110526 non-null  int64  \n",
      " 10  Scheduled_Mth     110526 non-null  int64  \n",
      " 11  Scheduled_Date    110526 non-null  int64  \n",
      " 12  Appointment_Yr    110526 non-null  int64  \n",
      " 13  Appointment_Mth   110526 non-null  int64  \n",
      " 14  Appointment_Date  110526 non-null  int64  \n",
      "dtypes: float64(1), int64(14)\n",
      "memory usage: 13.5 MB\n"
     ]
    }
   ],
   "source": [
    "data.info()"
   ]
  },
  {
   "cell_type": "markdown",
   "id": "embedded-flexibility",
   "metadata": {
    "papermill": {
     "duration": 0.104908,
     "end_time": "2021-04-24T21:14:57.897057",
     "exception": false,
     "start_time": "2021-04-24T21:14:57.792149",
     "status": "completed"
    },
    "tags": []
   },
   "source": [
    "### The feature \"PatientId\" is a unique identifier, which is not a meaningful data. Will just drop this feature. "
   ]
  },
  {
   "cell_type": "code",
   "execution_count": 68,
   "id": "recognized-riding",
   "metadata": {
    "execution": {
     "iopub.execute_input": "2021-04-24T21:14:58.106731Z",
     "iopub.status.busy": "2021-04-24T21:14:58.106070Z",
     "iopub.status.idle": "2021-04-24T21:14:58.115371Z",
     "shell.execute_reply": "2021-04-24T21:14:58.115891Z"
    },
    "papermill": {
     "duration": 0.116235,
     "end_time": "2021-04-24T21:14:58.116062",
     "exception": false,
     "start_time": "2021-04-24T21:14:57.999827",
     "status": "completed"
    },
    "tags": []
   },
   "outputs": [],
   "source": [
    "data = data.drop(\"PatientId\", axis=1)"
   ]
  },
  {
   "cell_type": "code",
   "execution_count": 69,
   "id": "hidden-edmonton",
   "metadata": {
    "execution": {
     "iopub.execute_input": "2021-04-24T21:14:58.352138Z",
     "iopub.status.busy": "2021-04-24T21:14:58.351439Z",
     "iopub.status.idle": "2021-04-24T21:14:58.367913Z",
     "shell.execute_reply": "2021-04-24T21:14:58.367345Z"
    },
    "papermill": {
     "duration": 0.138838,
     "end_time": "2021-04-24T21:14:58.368047",
     "exception": false,
     "start_time": "2021-04-24T21:14:58.229209",
     "status": "completed"
    },
    "tags": []
   },
   "outputs": [
    {
     "name": "stdout",
     "output_type": "stream",
     "text": [
      "<class 'pandas.core.frame.DataFrame'>\n",
      "Int64Index: 110526 entries, 0 to 110526\n",
      "Data columns (total 14 columns):\n",
      " #   Column            Non-Null Count   Dtype\n",
      "---  ------            --------------   -----\n",
      " 0   Age               110526 non-null  int64\n",
      " 1   Scholarship       110526 non-null  int64\n",
      " 2   Hipertension      110526 non-null  int64\n",
      " 3   Diabetes          110526 non-null  int64\n",
      " 4   Alcoholism        110526 non-null  int64\n",
      " 5   Handcap           110526 non-null  int64\n",
      " 6   SMS_received      110526 non-null  int64\n",
      " 7   No-show           110526 non-null  int64\n",
      " 8   Scheduled_Yr      110526 non-null  int64\n",
      " 9   Scheduled_Mth     110526 non-null  int64\n",
      " 10  Scheduled_Date    110526 non-null  int64\n",
      " 11  Appointment_Yr    110526 non-null  int64\n",
      " 12  Appointment_Mth   110526 non-null  int64\n",
      " 13  Appointment_Date  110526 non-null  int64\n",
      "dtypes: int64(14)\n",
      "memory usage: 12.6 MB\n"
     ]
    }
   ],
   "source": [
    "data.info()"
   ]
  },
  {
   "cell_type": "code",
   "execution_count": 70,
   "id": "manual-there",
   "metadata": {
    "execution": {
     "iopub.execute_input": "2021-04-24T21:14:58.580448Z",
     "iopub.status.busy": "2021-04-24T21:14:58.579789Z",
     "iopub.status.idle": "2021-04-24T21:14:58.593127Z",
     "shell.execute_reply": "2021-04-24T21:14:58.593632Z"
    },
    "papermill": {
     "duration": 0.120368,
     "end_time": "2021-04-24T21:14:58.593815",
     "exception": false,
     "start_time": "2021-04-24T21:14:58.473447",
     "status": "completed"
    },
    "tags": []
   },
   "outputs": [
    {
     "data": {
      "text/html": [
       "<div>\n",
       "<style scoped>\n",
       "    .dataframe tbody tr th:only-of-type {\n",
       "        vertical-align: middle;\n",
       "    }\n",
       "\n",
       "    .dataframe tbody tr th {\n",
       "        vertical-align: top;\n",
       "    }\n",
       "\n",
       "    .dataframe thead th {\n",
       "        text-align: right;\n",
       "    }\n",
       "</style>\n",
       "<table border=\"1\" class=\"dataframe\">\n",
       "  <thead>\n",
       "    <tr style=\"text-align: right;\">\n",
       "      <th></th>\n",
       "      <th>Age</th>\n",
       "      <th>Scholarship</th>\n",
       "      <th>Hipertension</th>\n",
       "      <th>Diabetes</th>\n",
       "      <th>Alcoholism</th>\n",
       "      <th>Handcap</th>\n",
       "      <th>SMS_received</th>\n",
       "      <th>No-show</th>\n",
       "      <th>Scheduled_Yr</th>\n",
       "      <th>Scheduled_Mth</th>\n",
       "      <th>Scheduled_Date</th>\n",
       "      <th>Appointment_Yr</th>\n",
       "      <th>Appointment_Mth</th>\n",
       "      <th>Appointment_Date</th>\n",
       "    </tr>\n",
       "  </thead>\n",
       "  <tbody>\n",
       "    <tr>\n",
       "      <th>0</th>\n",
       "      <td>62</td>\n",
       "      <td>0</td>\n",
       "      <td>1</td>\n",
       "      <td>0</td>\n",
       "      <td>0</td>\n",
       "      <td>0</td>\n",
       "      <td>0</td>\n",
       "      <td>0</td>\n",
       "      <td>2016</td>\n",
       "      <td>1</td>\n",
       "      <td>29</td>\n",
       "      <td>2016</td>\n",
       "      <td>4</td>\n",
       "      <td>29</td>\n",
       "    </tr>\n",
       "    <tr>\n",
       "      <th>1</th>\n",
       "      <td>56</td>\n",
       "      <td>0</td>\n",
       "      <td>0</td>\n",
       "      <td>0</td>\n",
       "      <td>0</td>\n",
       "      <td>0</td>\n",
       "      <td>0</td>\n",
       "      <td>0</td>\n",
       "      <td>2016</td>\n",
       "      <td>1</td>\n",
       "      <td>29</td>\n",
       "      <td>2016</td>\n",
       "      <td>4</td>\n",
       "      <td>29</td>\n",
       "    </tr>\n",
       "    <tr>\n",
       "      <th>2</th>\n",
       "      <td>62</td>\n",
       "      <td>0</td>\n",
       "      <td>0</td>\n",
       "      <td>0</td>\n",
       "      <td>0</td>\n",
       "      <td>0</td>\n",
       "      <td>0</td>\n",
       "      <td>0</td>\n",
       "      <td>2016</td>\n",
       "      <td>1</td>\n",
       "      <td>29</td>\n",
       "      <td>2016</td>\n",
       "      <td>4</td>\n",
       "      <td>29</td>\n",
       "    </tr>\n",
       "  </tbody>\n",
       "</table>\n",
       "</div>"
      ],
      "text/plain": [
       "   Age  Scholarship  Hipertension  Diabetes  Alcoholism  Handcap  \\\n",
       "0   62            0             1         0           0        0   \n",
       "1   56            0             0         0           0        0   \n",
       "2   62            0             0         0           0        0   \n",
       "\n",
       "   SMS_received  No-show  Scheduled_Yr  Scheduled_Mth  Scheduled_Date  \\\n",
       "0             0        0          2016              1              29   \n",
       "1             0        0          2016              1              29   \n",
       "2             0        0          2016              1              29   \n",
       "\n",
       "   Appointment_Yr  Appointment_Mth  Appointment_Date  \n",
       "0            2016                4                29  \n",
       "1            2016                4                29  \n",
       "2            2016                4                29  "
      ]
     },
     "execution_count": 70,
     "metadata": {},
     "output_type": "execute_result"
    }
   ],
   "source": [
    "data.head(3)"
   ]
  },
  {
   "cell_type": "markdown",
   "id": "expressed-regulation",
   "metadata": {
    "papermill": {
     "duration": 0.104573,
     "end_time": "2021-04-24T21:14:58.802995",
     "exception": false,
     "start_time": "2021-04-24T21:14:58.698422",
     "status": "completed"
    },
    "tags": []
   },
   "source": [
    "### Preparing data for PCA using standard scaler from the sklearn library"
   ]
  },
  {
   "cell_type": "code",
   "execution_count": 71,
   "id": "lasting-symbol",
   "metadata": {
    "execution": {
     "iopub.execute_input": "2021-04-24T21:14:59.018450Z",
     "iopub.status.busy": "2021-04-24T21:14:59.017759Z",
     "iopub.status.idle": "2021-04-24T21:14:59.162712Z",
     "shell.execute_reply": "2021-04-24T21:14:59.162139Z"
    },
    "papermill": {
     "duration": 0.253641,
     "end_time": "2021-04-24T21:14:59.162869",
     "exception": false,
     "start_time": "2021-04-24T21:14:58.909228",
     "status": "completed"
    },
    "tags": []
   },
   "outputs": [],
   "source": [
    "from sklearn.preprocessing import StandardScaler"
   ]
  },
  {
   "cell_type": "code",
   "execution_count": 72,
   "id": "norwegian-lodge",
   "metadata": {
    "execution": {
     "iopub.execute_input": "2021-04-24T21:14:59.378989Z",
     "iopub.status.busy": "2021-04-24T21:14:59.378320Z",
     "iopub.status.idle": "2021-04-24T21:14:59.381584Z",
     "shell.execute_reply": "2021-04-24T21:14:59.381060Z"
    },
    "papermill": {
     "duration": 0.11229,
     "end_time": "2021-04-24T21:14:59.381727",
     "exception": false,
     "start_time": "2021-04-24T21:14:59.269437",
     "status": "completed"
    },
    "tags": []
   },
   "outputs": [],
   "source": [
    "scaler = StandardScaler()"
   ]
  },
  {
   "cell_type": "code",
   "execution_count": 73,
   "id": "racial-floor",
   "metadata": {
    "execution": {
     "iopub.execute_input": "2021-04-24T21:14:59.599464Z",
     "iopub.status.busy": "2021-04-24T21:14:59.598790Z",
     "iopub.status.idle": "2021-04-24T21:14:59.637358Z",
     "shell.execute_reply": "2021-04-24T21:14:59.636830Z"
    },
    "papermill": {
     "duration": 0.149603,
     "end_time": "2021-04-24T21:14:59.637504",
     "exception": false,
     "start_time": "2021-04-24T21:14:59.487901",
     "status": "completed"
    },
    "tags": []
   },
   "outputs": [],
   "source": [
    "scaled_data = scaler.fit_transform(data)"
   ]
  },
  {
   "cell_type": "markdown",
   "id": "greek-muslim",
   "metadata": {
    "papermill": {
     "duration": 0.104872,
     "end_time": "2021-04-24T21:14:59.847045",
     "exception": false,
     "start_time": "2021-04-24T21:14:59.742173",
     "status": "completed"
    },
    "tags": []
   },
   "source": [
    "### After transformation using the scaler"
   ]
  },
  {
   "cell_type": "code",
   "execution_count": 74,
   "id": "assured-courage",
   "metadata": {
    "execution": {
     "iopub.execute_input": "2021-04-24T21:15:00.062832Z",
     "iopub.status.busy": "2021-04-24T21:15:00.062076Z",
     "iopub.status.idle": "2021-04-24T21:15:00.066161Z",
     "shell.execute_reply": "2021-04-24T21:15:00.066602Z"
    },
    "papermill": {
     "duration": 0.114636,
     "end_time": "2021-04-24T21:15:00.066767",
     "exception": false,
     "start_time": "2021-04-24T21:14:59.952131",
     "status": "completed"
    },
    "tags": []
   },
   "outputs": [
    {
     "data": {
      "text/plain": [
       "array([[ 1.07792585, -0.33011372,  2.01736646, ...,  0.        ,\n",
       "        -2.55404542,  1.82196369],\n",
       "       [ 0.81829709, -0.33011372, -0.49569576, ...,  0.        ,\n",
       "        -2.55404542,  1.82196369],\n",
       "       [ 1.07792585, -0.33011372, -0.49569576, ...,  0.        ,\n",
       "        -2.55404542,  1.82196369],\n",
       "       ...,\n",
       "       [-0.69620397, -0.33011372, -0.49569576, ...,  0.        ,\n",
       "         1.66737395, -0.60724131],\n",
       "       [ 0.03941083, -0.33011372, -0.49569576, ...,  0.        ,\n",
       "         1.66737395, -0.60724131],\n",
       "       [ 0.73175418, -0.33011372, -0.49569576, ...,  0.        ,\n",
       "         1.66737395, -0.60724131]])"
      ]
     },
     "execution_count": 74,
     "metadata": {},
     "output_type": "execute_result"
    }
   ],
   "source": [
    "scaled_data"
   ]
  },
  {
   "cell_type": "markdown",
   "id": "radical-belfast",
   "metadata": {
    "papermill": {
     "duration": 0.105533,
     "end_time": "2021-04-24T21:15:00.278705",
     "exception": false,
     "start_time": "2021-04-24T21:15:00.173172",
     "status": "completed"
    },
    "tags": []
   },
   "source": [
    "### Importing Principle Component Analysis from the sklearn library"
   ]
  },
  {
   "cell_type": "code",
   "execution_count": 75,
   "id": "interim-fundamental",
   "metadata": {
    "execution": {
     "iopub.execute_input": "2021-04-24T21:15:00.494945Z",
     "iopub.status.busy": "2021-04-24T21:15:00.494314Z",
     "iopub.status.idle": "2021-04-24T21:15:00.692105Z",
     "shell.execute_reply": "2021-04-24T21:15:00.691504Z"
    },
    "papermill": {
     "duration": 0.30824,
     "end_time": "2021-04-24T21:15:00.692248",
     "exception": false,
     "start_time": "2021-04-24T21:15:00.384008",
     "status": "completed"
    },
    "tags": []
   },
   "outputs": [],
   "source": [
    "from sklearn.decomposition import PCA"
   ]
  },
  {
   "cell_type": "markdown",
   "id": "violent-making",
   "metadata": {
    "papermill": {
     "duration": 0.105717,
     "end_time": "2021-04-24T21:15:00.904182",
     "exception": false,
     "start_time": "2021-04-24T21:15:00.798465",
     "status": "completed"
    },
    "tags": []
   },
   "source": [
    "### Number of components to be set at 3"
   ]
  },
  {
   "cell_type": "code",
   "execution_count": 76,
   "id": "eastern-lease",
   "metadata": {
    "execution": {
     "iopub.execute_input": "2021-04-24T21:15:01.121153Z",
     "iopub.status.busy": "2021-04-24T21:15:01.120417Z",
     "iopub.status.idle": "2021-04-24T21:15:01.123630Z",
     "shell.execute_reply": "2021-04-24T21:15:01.123109Z"
    },
    "papermill": {
     "duration": 0.113024,
     "end_time": "2021-04-24T21:15:01.123762",
     "exception": false,
     "start_time": "2021-04-24T21:15:01.010738",
     "status": "completed"
    },
    "tags": []
   },
   "outputs": [],
   "source": [
    "pca = PCA(n_components=3)"
   ]
  },
  {
   "cell_type": "markdown",
   "id": "perceived-activation",
   "metadata": {
    "papermill": {
     "duration": 0.10532,
     "end_time": "2021-04-24T21:15:01.334499",
     "exception": false,
     "start_time": "2021-04-24T21:15:01.229179",
     "status": "completed"
    },
    "tags": []
   },
   "source": [
    "### Finally, the scaled data is fit to the PCA"
   ]
  },
  {
   "cell_type": "code",
   "execution_count": 77,
   "id": "derived-thermal",
   "metadata": {
    "execution": {
     "iopub.execute_input": "2021-04-24T21:15:01.552755Z",
     "iopub.status.busy": "2021-04-24T21:15:01.552108Z",
     "iopub.status.idle": "2021-04-24T21:15:01.994182Z",
     "shell.execute_reply": "2021-04-24T21:15:01.995014Z"
    },
    "papermill": {
     "duration": 0.554744,
     "end_time": "2021-04-24T21:15:01.995287",
     "exception": false,
     "start_time": "2021-04-24T21:15:01.440543",
     "status": "completed"
    },
    "tags": []
   },
   "outputs": [
    {
     "data": {
      "text/plain": [
       "PCA(n_components=3)"
      ]
     },
     "execution_count": 77,
     "metadata": {},
     "output_type": "execute_result"
    }
   ],
   "source": [
    "pca.fit(scaled_data)"
   ]
  },
  {
   "cell_type": "code",
   "execution_count": 78,
   "id": "reduced-distributor",
   "metadata": {
    "execution": {
     "iopub.execute_input": "2021-04-24T21:15:02.255287Z",
     "iopub.status.busy": "2021-04-24T21:15:02.254550Z",
     "iopub.status.idle": "2021-04-24T21:15:02.266721Z",
     "shell.execute_reply": "2021-04-24T21:15:02.267592Z"
    },
    "papermill": {
     "duration": 0.123012,
     "end_time": "2021-04-24T21:15:02.267869",
     "exception": false,
     "start_time": "2021-04-24T21:15:02.144857",
     "status": "completed"
    },
    "tags": []
   },
   "outputs": [],
   "source": [
    "x_pca = pca.transform(scaled_data)"
   ]
  },
  {
   "cell_type": "code",
   "execution_count": 79,
   "id": "sustainable-vatican",
   "metadata": {
    "execution": {
     "iopub.execute_input": "2021-04-24T21:15:02.537794Z",
     "iopub.status.busy": "2021-04-24T21:15:02.537159Z",
     "iopub.status.idle": "2021-04-24T21:15:02.540090Z",
     "shell.execute_reply": "2021-04-24T21:15:02.540647Z"
    },
    "papermill": {
     "duration": 0.115391,
     "end_time": "2021-04-24T21:15:02.540808",
     "exception": false,
     "start_time": "2021-04-24T21:15:02.425417",
     "status": "completed"
    },
    "tags": []
   },
   "outputs": [
    {
     "data": {
      "text/plain": [
       "(110526, 14)"
      ]
     },
     "execution_count": 79,
     "metadata": {},
     "output_type": "execute_result"
    }
   ],
   "source": [
    "scaled_data.shape"
   ]
  },
  {
   "cell_type": "markdown",
   "id": "spare-hypothetical",
   "metadata": {
    "papermill": {
     "duration": 0.107154,
     "end_time": "2021-04-24T21:15:02.754994",
     "exception": false,
     "start_time": "2021-04-24T21:15:02.647840",
     "status": "completed"
    },
    "tags": []
   },
   "source": [
    "### Noted that the scaled data has been changed from 14 features to 3 main components in PCA"
   ]
  },
  {
   "cell_type": "code",
   "execution_count": 80,
   "id": "affected-struggle",
   "metadata": {
    "execution": {
     "iopub.execute_input": "2021-04-24T21:15:02.972110Z",
     "iopub.status.busy": "2021-04-24T21:15:02.971483Z",
     "iopub.status.idle": "2021-04-24T21:15:02.976099Z",
     "shell.execute_reply": "2021-04-24T21:15:02.976563Z"
    },
    "papermill": {
     "duration": 0.115439,
     "end_time": "2021-04-24T21:15:02.976925",
     "exception": false,
     "start_time": "2021-04-24T21:15:02.861486",
     "status": "completed"
    },
    "tags": []
   },
   "outputs": [
    {
     "data": {
      "text/plain": [
       "(110526, 3)"
      ]
     },
     "execution_count": 80,
     "metadata": {},
     "output_type": "execute_result"
    }
   ],
   "source": [
    "x_pca.shape"
   ]
  },
  {
   "cell_type": "code",
   "execution_count": 81,
   "id": "going-allowance",
   "metadata": {
    "execution": {
     "iopub.execute_input": "2021-04-24T21:15:03.196257Z",
     "iopub.status.busy": "2021-04-24T21:15:03.195575Z",
     "iopub.status.idle": "2021-04-24T21:15:04.903396Z",
     "shell.execute_reply": "2021-04-24T21:15:04.902871Z"
    },
    "papermill": {
     "duration": 1.817566,
     "end_time": "2021-04-24T21:15:04.903552",
     "exception": false,
     "start_time": "2021-04-24T21:15:03.085986",
     "status": "completed"
    },
    "tags": []
   },
   "outputs": [
    {
     "data": {
      "text/plain": [
       "Text(0, 0.5, 'Second Principal Component')"
      ]
     },
     "execution_count": 81,
     "metadata": {},
     "output_type": "execute_result"
    },
    {
     "data": {
      "image/png": "[encoded data removed]",
      "text/plain": [
       "<Figure size 576x432 with 1 Axes>"
      ]
     },
     "metadata": {
      "needs_background": "light"
     },
     "output_type": "display_data"
    }
   ],
   "source": [
    "plt.figure(figsize=(8,6))\n",
    "plt.scatter(x_pca[:,0],x_pca[:,1],c=data['No-show'],cmap='magma', alpha=0.3)\n",
    "plt.xlabel('First principal component')\n",
    "plt.ylabel('Second Principal Component')"
   ]
  },
  {
   "cell_type": "code",
   "execution_count": 82,
   "id": "suited-damages",
   "metadata": {
    "execution": {
     "iopub.execute_input": "2021-04-24T21:15:05.164559Z",
     "iopub.status.busy": "2021-04-24T21:15:05.163761Z",
     "iopub.status.idle": "2021-04-24T21:15:06.801716Z",
     "shell.execute_reply": "2021-04-24T21:15:06.802226Z"
    },
    "papermill": {
     "duration": 1.783244,
     "end_time": "2021-04-24T21:15:06.802391",
     "exception": false,
     "start_time": "2021-04-24T21:15:05.019147",
     "status": "completed"
    },
    "tags": []
   },
   "outputs": [
    {
     "data": {
      "text/plain": [
       "Text(0, 0.5, 'Third Principal Component')"
      ]
     },
     "execution_count": 82,
     "metadata": {},
     "output_type": "execute_result"
    },
    {
     "data": {
      "image/png": "[encoded data removed]",
      "text/plain": [
       "<Figure size 576x432 with 1 Axes>"
      ]
     },
     "metadata": {
      "needs_background": "light"
     },
     "output_type": "display_data"
    }
   ],
   "source": [
    "plt.figure(figsize=(8,6))\n",
    "plt.scatter(x_pca[:,0],x_pca[:,2],c=data['No-show'],cmap='coolwarm', alpha=0.2)\n",
    "plt.xlabel('First principal component')\n",
    "plt.ylabel('Third Principal Component')"
   ]
  },
  {
   "cell_type": "code",
   "execution_count": 83,
   "id": "executed-nothing",
   "metadata": {
    "execution": {
     "iopub.execute_input": "2021-04-24T21:15:07.069343Z",
     "iopub.status.busy": "2021-04-24T21:15:07.050393Z",
     "iopub.status.idle": "2021-04-24T21:15:08.735825Z",
     "shell.execute_reply": "2021-04-24T21:15:08.736336Z"
    },
    "papermill": {
     "duration": 1.8148,
     "end_time": "2021-04-24T21:15:08.736507",
     "exception": false,
     "start_time": "2021-04-24T21:15:06.921707",
     "status": "completed"
    },
    "tags": []
   },
   "outputs": [
    {
     "data": {
      "text/plain": [
       "Text(0, 0.5, 'Third Principal Component')"
      ]
     },
     "execution_count": 83,
     "metadata": {},
     "output_type": "execute_result"
    },
    {
     "data": {
      "image/png": "[encoded data removed]",
      "text/plain": [
       "<Figure size 576x432 with 1 Axes>"
      ]
     },
     "metadata": {
      "needs_background": "light"
     },
     "output_type": "display_data"
    }
   ],
   "source": [
    "plt.figure(figsize=(8,6))\n",
    "plt.scatter(x_pca[:,1],x_pca[:,2],c=data['No-show'],cmap='viridis', alpha=0.2)\n",
    "plt.xlabel('Second principal component')\n",
    "plt.ylabel('Third Principal Component')"
   ]
  },
  {
   "cell_type": "markdown",
   "id": "diverse-margin",
   "metadata": {
    "papermill": {
     "duration": 0.123216,
     "end_time": "2021-04-24T21:15:08.982475",
     "exception": false,
     "start_time": "2021-04-24T21:15:08.859259",
     "status": "completed"
    },
    "tags": []
   },
   "source": [
    "### The following is the output of PCA in raw form, which is difficult to interpret (at least for me) without some sort of graphical forms. "
   ]
  },
  {
   "cell_type": "code",
   "execution_count": 84,
   "id": "forced-retirement",
   "metadata": {
    "execution": {
     "iopub.execute_input": "2021-04-24T21:15:09.250477Z",
     "iopub.status.busy": "2021-04-24T21:15:09.249506Z",
     "iopub.status.idle": "2021-04-24T21:15:09.254001Z",
     "shell.execute_reply": "2021-04-24T21:15:09.253279Z"
    },
    "papermill": {
     "duration": 0.147737,
     "end_time": "2021-04-24T21:15:09.254143",
     "exception": false,
     "start_time": "2021-04-24T21:15:09.106406",
     "status": "completed"
    },
    "tags": []
   },
   "outputs": [
    {
     "data": {
      "text/plain": [
       "array([[ 0.54833719, -0.08537467,  0.5909125 ,  0.49162257,  0.12882353,\n",
       "         0.13798416, -0.02346842, -0.08797591, -0.04574504,  0.01455385,\n",
       "        -0.11681294, -0.        ,  0.13809665, -0.1490675 ],\n",
       "       [ 0.13253333, -0.01800299,  0.14840282,  0.12179078,  0.02334441,\n",
       "         0.03458751,  0.0089606 ,  0.03801732, -0.01705388, -0.15135042,\n",
       "         0.45444654,  0.        , -0.57525194,  0.61753811],\n",
       "       [ 0.04589548, -0.02386918,  0.02001152,  0.00254275, -0.08018408,\n",
       "        -0.04964998,  0.65515983,  0.41120364, -0.26455543, -0.46570004,\n",
       "         0.21454039, -0.        ,  0.17861876, -0.15780103]])"
      ]
     },
     "execution_count": 84,
     "metadata": {},
     "output_type": "execute_result"
    }
   ],
   "source": [
    "pca.components_"
   ]
  },
  {
   "cell_type": "markdown",
   "id": "ideal-denmark",
   "metadata": {
    "papermill": {
     "duration": 0.124859,
     "end_time": "2021-04-24T21:15:09.511425",
     "exception": false,
     "start_time": "2021-04-24T21:15:09.386566",
     "status": "completed"
    },
    "tags": []
   },
   "source": [
    "### Setting up to visualize the result using heatmap"
   ]
  },
  {
   "cell_type": "code",
   "execution_count": 85,
   "id": "crazy-india",
   "metadata": {
    "execution": {
     "iopub.execute_input": "2021-04-24T21:15:09.764710Z",
     "iopub.status.busy": "2021-04-24T21:15:09.763986Z",
     "iopub.status.idle": "2021-04-24T21:15:09.766707Z",
     "shell.execute_reply": "2021-04-24T21:15:09.767273Z"
    },
    "papermill": {
     "duration": 0.132334,
     "end_time": "2021-04-24T21:15:09.767433",
     "exception": false,
     "start_time": "2021-04-24T21:15:09.635099",
     "status": "completed"
    },
    "tags": []
   },
   "outputs": [
    {
     "data": {
      "text/plain": [
       "Index(['Age', 'Scholarship', 'Hipertension', 'Diabetes', 'Alcoholism',\n",
       "       'Handcap', 'SMS_received', 'No-show', 'Scheduled_Yr', 'Scheduled_Mth',\n",
       "       'Scheduled_Date', 'Appointment_Yr', 'Appointment_Mth',\n",
       "       'Appointment_Date'],\n",
       "      dtype='object')"
      ]
     },
     "execution_count": 85,
     "metadata": {},
     "output_type": "execute_result"
    }
   ],
   "source": [
    "data.columns"
   ]
  },
  {
   "cell_type": "code",
   "execution_count": 86,
   "id": "incredible-switzerland",
   "metadata": {
    "execution": {
     "iopub.execute_input": "2021-04-24T21:15:10.020432Z",
     "iopub.status.busy": "2021-04-24T21:15:10.019792Z",
     "iopub.status.idle": "2021-04-24T21:15:10.024637Z",
     "shell.execute_reply": "2021-04-24T21:15:10.024097Z"
    },
    "papermill": {
     "duration": 0.132509,
     "end_time": "2021-04-24T21:15:10.024779",
     "exception": false,
     "start_time": "2021-04-24T21:15:09.892270",
     "status": "completed"
    },
    "tags": []
   },
   "outputs": [],
   "source": [
    "features = ['Age', 'Scholarship', 'Hipertension', 'Diabetes', 'Alcoholism','Handcap', \n",
    "                    'SMS_received', 'No-show', 'Scheduled_Yr', 'Scheduled_Mth','Scheduled_Date', \n",
    "                    'Appointment_Yr', 'Appointment_Mth','Appointment_Date']"
   ]
  },
  {
   "cell_type": "code",
   "execution_count": 87,
   "id": "collective-billion",
   "metadata": {
    "execution": {
     "iopub.execute_input": "2021-04-24T21:15:10.279724Z",
     "iopub.status.busy": "2021-04-24T21:15:10.279077Z",
     "iopub.status.idle": "2021-04-24T21:15:10.282357Z",
     "shell.execute_reply": "2021-04-24T21:15:10.281826Z"
    },
    "papermill": {
     "duration": 0.133239,
     "end_time": "2021-04-24T21:15:10.282498",
     "exception": false,
     "start_time": "2021-04-24T21:15:10.149259",
     "status": "completed"
    },
    "tags": []
   },
   "outputs": [],
   "source": [
    "data_comp = pd.DataFrame(pca.components_, columns=features)"
   ]
  },
  {
   "cell_type": "markdown",
   "id": "variable-toddler",
   "metadata": {
    "papermill": {
     "duration": 0.124746,
     "end_time": "2021-04-24T21:15:10.531973",
     "exception": false,
     "start_time": "2021-04-24T21:15:10.407227",
     "status": "completed"
    },
    "tags": []
   },
   "source": [
    "### Finally, the \"Appointment Date\" and \"Scheduled Date\" are shown to be the features that explain the most of the variance for the target feature. This is followed by Age, hypertension, and diabetes. The feature that has the least is Appointment Month, which is shown in blue."
   ]
  },
  {
   "cell_type": "code",
   "execution_count": 88,
   "id": "several-smell",
   "metadata": {
    "execution": {
     "iopub.execute_input": "2021-04-24T21:15:10.827547Z",
     "iopub.status.busy": "2021-04-24T21:15:10.826645Z",
     "iopub.status.idle": "2021-04-24T21:15:11.084025Z",
     "shell.execute_reply": "2021-04-24T21:15:11.084539Z"
    },
    "papermill": {
     "duration": 0.428466,
     "end_time": "2021-04-24T21:15:11.084720",
     "exception": false,
     "start_time": "2021-04-24T21:15:10.656254",
     "status": "completed"
    },
    "tags": []
   },
   "outputs": [
    {
     "data": {
      "text/plain": [
       "<AxesSubplot:>"
      ]
     },
     "execution_count": 88,
     "metadata": {},
     "output_type": "execute_result"
    },
    {
     "data": {
      "image/png": "[encoded data removed]",
      "text/plain": [
       "<Figure size 864x432 with 2 Axes>"
      ]
     },
     "metadata": {
      "needs_background": "light"
     },
     "output_type": "display_data"
    }
   ],
   "source": [
    "plt.figure(figsize=(12,6))\n",
    "sns.heatmap(data_comp,cmap='plasma',)"
   ]
  },
  {
   "cell_type": "markdown",
   "id": "developing-asthma",
   "metadata": {
    "papermill": {
     "duration": 0.12516,
     "end_time": "2021-04-24T21:15:11.335786",
     "exception": false,
     "start_time": "2021-04-24T21:15:11.210626",
     "status": "completed"
    },
    "tags": []
   },
   "source": [
    "### Overall, SMS text was expected to the one of the key components for the target feature, but the heatmap does not show that is the case. The data used is only for 2016 so it would be beneficial if this was done using a few years period to give us a better understanding of the components. "
   ]
  },
  {
   "cell_type": "code",
   "execution_count": 89,
   "id": "designed-julian",
   "metadata": {
    "execution": {
     "iopub.execute_input": "2021-04-24T21:15:11.591037Z",
     "iopub.status.busy": "2021-04-24T21:15:11.590353Z",
     "iopub.status.idle": "2021-04-24T21:15:11.593451Z",
     "shell.execute_reply": "2021-04-24T21:15:11.594030Z"
    },
    "papermill": {
     "duration": 0.133192,
     "end_time": "2021-04-24T21:15:11.594202",
     "exception": false,
     "start_time": "2021-04-24T21:15:11.461010",
     "status": "completed"
    },
    "tags": []
   },
   "outputs": [],
   "source": [
    "###"
   ]
  }
 ],
 "metadata": {
  "kernelspec": {
   "display_name": "Python 3",
   "language": "python",
   "name": "python3"
  },
  "language_info": {
   "codemirror_mode": {
    "name": "ipython",
    "version": 3
   },
   "file_extension": ".py",
   "mimetype": "text/x-python",
   "name": "python",
   "nbconvert_exporter": "python",
   "pygments_lexer": "ipython3",
   "version": "3.7.10"
  },
  "papermill": {
   "default_parameters": {},
   "duration": 144.124997,
   "end_time": "2021-04-24T21:15:12.529755",
   "environment_variables": {},
   "exception": null,
   "input_path": "__notebook__.ipynb",
   "output_path": "__notebook__.ipynb",
   "parameters": {},
   "start_time": "2021-04-24T21:12:48.404758",
   "version": "2.3.3"
  }
 },
 "nbformat": 4,
 "nbformat_minor": 5
}
